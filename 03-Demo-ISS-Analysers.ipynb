{
 "cells": [
  {
   "cell_type": "markdown",
   "metadata": {},
   "source": [
    "# Analysers in Intel® Sytem Studio"
   ]
  },
  {
   "cell_type": "markdown",
   "metadata": {},
   "source": [
    "### Profiling a Computer Vision Application"
   ]
  },
  {
   "cell_type": "markdown",
   "metadata": {},
   "source": [
    "OpenCV in Intel® Distribution of OpenVINO™ leverages a tracing facility for efficient development of Computer Vision Applications.\n",
    "\n",
    "Tracing framework is built-in directly into the OpenCV source code. To use it, you only need to compile and link your application with modern version of OpenCV.\n",
    "\n",
    "OpenCV tracing relies on the ITT API, an [Intel®-provided profiling framework](https://software.intel.com/en-us/articles/intel-itt-api-open-source)."
   ]
  },
  {
   "cell_type": "code",
   "execution_count": 24,
   "metadata": {},
   "outputs": [
    {
     "name": "stdout",
     "output_type": "stream",
     "text": [
      "env: OPENCV_TRACE=1\n"
     ]
    }
   ],
   "source": [
    "#The tracing is enabled by default at compile time. \n",
    "#But it's not activated by default at runtime, because it impacts the performance. \n",
    "#It's activated when the environment variable OPENCV_TRACE is set (OPENCV_TRACE=1) \n",
    "#or when OpenCV-based app is running within a specialized profiling software supporting \n",
    "#Instrumentation and Tracing Technology (ITT).\n",
    "\n",
    "%env OPENCV_TRACE=1"
   ]
  },
  {
   "cell_type": "markdown",
   "metadata": {},
   "source": [
    "### Using VTune™ Amplifier"
   ]
  },
  {
   "cell_type": "markdown",
   "metadata": {},
   "source": [
    "The handiest way to collect a trace is to run your application under control of Intel® VTune™ Amplifier. With VTune™ you can correlate your OpenCV activity with various important metrics for CPU and GPU. Finally, VTune™ captures most Intel APIs beyond OpenCV, for example OpenCL. So with these tools you can see when OpenCV calls are translated into OpenCL tasks.<br><br>\n",
    "![alt text](VTune1.png) <br>\n",
    "Just run analyzed OpenCV Application under Intel® VTune™ Amplifier with enabled \"Analyze user tasks\" option."
   ]
  },
  {
   "cell_type": "code",
   "execution_count": 26,
   "metadata": {},
   "outputs": [],
   "source": [
    "!python rm-rf.py runs"
   ]
  },
  {
   "cell_type": "code",
   "execution_count": 27,
   "metadata": {},
   "outputs": [],
   "source": [
    "#VTune Hotspot analysis\n",
    "!start \"\" cmd /K amplxe-cl \\\n",
    "-collect hotspots \\\n",
    "--result-dir runs/vtune/cpu_run_1 \\\n",
    "--duration 15 \\\n",
    "-- RelWithDebInfo/monitor.exe \\\n",
    "-m=\"pedestrian-and-vehicle-detector-adas-0001.bin\" \\\n",
    "-c=\"pedestrian-and-vehicle-detector-adas-0001.xml\" \\\n",
    "-i=\"car-detection.mp4\" \\\n",
    "-cc=0.7 -e=\"b\""
   ]
  },
  {
   "cell_type": "code",
   "execution_count": 28,
   "metadata": {},
   "outputs": [
    {
     "data": {
      "text/plain": [
       "[\"amplxe: Using result path `C:\\\\Users\\\\NUC8i7\\\\Desktop\\\\EWDemo\\\\runs\\\\vtune\\\\cpu_run_1'\",\n",
       " '',\n",
       " 'amplxe: Executing actions  0 %                                                 ',\n",
       " 'amplxe: Executing actions  0 % Finalizing results                              ',\n",
       " 'amplxe: Executing actions 50 % Finalizing results                              ',\n",
       " 'amplxe: Executing actions 50 % Generating a report                             ',\n",
       " 'amplxe: Executing actions 50 % Setting data model parameters                   ',\n",
       " 'amplxe: Executing actions 75 % Setting data model parameters                   ',\n",
       " 'amplxe: Executing actions 75 % Generating a report                             ',\n",
       " 'amplxe: Executing actions 100 % Generating a report                            ',\n",
       " 'amplxe: Executing actions 100 % done                                           ',\n",
       " 'Function   CPU Time  CPU Time:Effective Time  CPU Time:Effective Time:Idle  CPU Time:Effective Time:Poor  CPU Time:Effective Time:Ok  CPU Time:Effective Time:Ideal  CPU Time:Effective Time:Over  Module     Function (Full)  Source File  Start Address',\n",
       " '---------  --------  -----------------------  ----------------------------  ----------------------------  --------------------------  -----------------------------  ----------------------------  ---------  ---------------  -----------  -------------',\n",
       " '[Unknown]    5.307s                   5.307s                        5.307s                            0s                          0s                             0s                            0s  [Unknown]  [Unknown]        [Unknown]    [Unknown]    ']"
      ]
     },
     "execution_count": 28,
     "metadata": {},
     "output_type": "execute_result"
    }
   ],
   "source": [
    "#Generate VTune Hotspot analysis report\n",
    "%sx amplxe-cl \\\n",
    "-report hotspots \\\n",
    "-r=runs/vtune/cpu_run_1 \\\n",
    "-- RelWithDebInfo/monitor.exe \\\n",
    "-m=\"pedestrian-and-vehicle-detector-adas-0001.bin\" \\\n",
    "-c=\"pedestrian-and-vehicle-detector-adas-0001.xml\" \\\n",
    "-i=\"car-detection.mp4\" \\\n",
    "-cc=0.7 -e=\"b\""
   ]
  },
  {
   "cell_type": "code",
   "execution_count": 29,
   "metadata": {},
   "outputs": [
    {
     "data": {
      "text/plain": [
       "[\"amplxe: Using result path `C:\\\\Users\\\\NUC8i7\\\\Desktop\\\\EWDemo\\\\runs\\\\vtune\\\\cpu_run_1'\",\n",
       " '',\n",
       " 'amplxe: Executing actions  0 %                                                 ',\n",
       " 'amplxe: Executing actions  0 % Finalizing results                              ',\n",
       " 'amplxe: Executing actions 50 % Finalizing results                              ',\n",
       " 'amplxe: Executing actions 50 % Generating a report                             ',\n",
       " 'amplxe: Executing actions 50 % Setting data model parameters                   ',\n",
       " 'amplxe: Executing actions 75 % Setting data model parameters                   ',\n",
       " 'amplxe: Executing actions 75 % Generating a report                             ',\n",
       " 'amplxe: Executing actions 100 % Generating a report                            ',\n",
       " 'amplxe: Executing actions 100 % done                                           ',\n",
       " 'Function   CPU Time  CPU Time:Effective Time  CPU Time:Effective Time:Idle  CPU Time:Effective Time:Poor  CPU Time:Effective Time:Ok  CPU Time:Effective Time:Ideal  CPU Time:Effective Time:Over  Module     Function (Full)  Source File  Start Address',\n",
       " '---------  --------  -----------------------  ----------------------------  ----------------------------  --------------------------  -----------------------------  ----------------------------  ---------  ---------------  -----------  -------------',\n",
       " '[Unknown]    5.307s                   5.307s                        5.307s                            0s                          0s                             0s                            0s  [Unknown]  [Unknown]        [Unknown]    [Unknown]    ']"
      ]
     },
     "execution_count": 29,
     "metadata": {},
     "output_type": "execute_result"
    }
   ],
   "source": [
    "#This example displays a Hotspots report for the r001hs result, \n",
    "#presenting CPU time for the functions of the target in  \n",
    "#descending order starting from the most time-consuming function.\n",
    "\n",
    "%sx amplxe-cl -report hotspots -r runs/vtune/cpu_run_1"
   ]
  },
  {
   "cell_type": "code",
   "execution_count": 21,
   "metadata": {},
   "outputs": [],
   "source": [
    "%%capture\n",
    "#Launch VTune Amplifier 2019 GUI\n",
    "!\"C:\\Program Files (x86)\\IntelSWTools\\VTune Amplifier 2019\\bin64\\amplxe-gui.exe\" runs/vtune/cpu_run_1/cpu_run_1.amplxe"
   ]
  },
  {
   "cell_type": "markdown",
   "metadata": {},
   "source": [
    "### Using Intel® Advisor™ Amplifier\n",
    "![alt text](Advise1.png) <br>"
   ]
  },
  {
   "cell_type": "markdown",
   "metadata": {},
   "source": [
    "<font color=pink><b>Command Line Interface Reference</b></font>\n",
    "\n",
    "You can use the Intel® Advisor command line interface, advixe-cl, to run analysis and data collection. This makes it possible to automate many tasks or analyze an application running on remote hosts. The results can be viewed through the Intel Advisor GUI, or used to generate various kinds of reports.\n",
    "<br><br>\n",
    "NOTE\n",
    "<br>\n",
    "Before using the command line, you must set command line environment variables.\n",
    "For instructions, see [Setting and Using Intel Advisor Environment Variables](https://software.intel.com/en-us/advisor-user-guide-setting-and-using-intel-advisor-environment-variables)."
   ]
  },
  {
   "cell_type": "markdown",
   "metadata": {},
   "source": [
    "#### Survey Report Purpose and Usage"
   ]
  },
  {
   "cell_type": "markdown",
   "metadata": {},
   "source": [
    "Run a Survey analysis to generate a <b>Survey Report</b> that offers integrated compiler report data and performance data for your target application all in one place. Optionally run a Trip Counts analysis and/or FLOP analysis to add data to the Survey Report. The Roofline analysis runs a Survey analysis followed by a FLOP analysis automatically."
   ]
  },
  {
   "cell_type": "markdown",
   "metadata": {},
   "source": [
    "<font color=blue><b>Survey analysis</b></font> - Identifies:\n",
    "* Where vectorization, or parallelization with threads, will pay off the most\n",
    "* If vectorized loops are providing benefit, and if not, why not\n",
    "* Un-vectorized loops and why they are not vectorized\n",
    "* Performance problems in general"
   ]
  },
  {
   "cell_type": "code",
   "execution_count": 6,
   "metadata": {},
   "outputs": [],
   "source": [
    "#Survey analysis\n",
    "!start \"\" cmd /C advixe-cl.exe \\\n",
    "--collect survey \\\n",
    "--project-dir runs/advise/cpu_run_1 \\\n",
    "-- monitor.exe \\\n",
    "-m=\"pedestrian-and-vehicle-detector-adas-0001.bin\" \\\n",
    "-c=\"pedestrian-and-vehicle-detector-adas-0001.xml\" \\\n",
    "-i=\"car-detection.mp4\" \\\n",
    "-cc=0.7 -e=\"b\""
   ]
  },
  {
   "cell_type": "code",
   "execution_count": 7,
   "metadata": {},
   "outputs": [
    {
     "data": {
      "text/plain": [
       "['',\n",
       " 'advixe: Opening result  0 %                                                    ',\n",
       " 'advixe: Opening result  0 % Finalizing results                                 ',\n",
       " 'advixe: Opening result 75 % Finalizing results                                 ',\n",
       " 'advixe: Opening result 75 % Preparing data for display of survey call tree     ',\n",
       " 'advixe: Opening result 77 % Preparing data for display of survey call tree     ',\n",
       " 'advixe: Opening result 88 % Preparing data for display of survey call tree     ',\n",
       " 'advixe: Opening result 100 % Preparing data for display of survey call tree    ',\n",
       " 'advixe: Opening result 100 % done                                              ',\n",
       " 'advixe: Error: Data loading failed.',\n",
       " 'advixe: Error: No data']"
      ]
     },
     "execution_count": 7,
     "metadata": {},
     "output_type": "execute_result"
    }
   ],
   "source": [
    "#Create the Survey analysis report\n",
    "%sx advixe-cl.exe \\\n",
    "--report survey \\\n",
    "--project-dir runs/advise/cpu_run_1 \\\n",
    "--format text \\\n",
    "--report-output=runs/advise/cpu_run_1/cpu_run_1.txt \\\n",
    "-- monitor.exe \\\n",
    "-m=\"pedestrian-and-vehicle-detector-adas-0001.bin\" \\\n",
    "-c=\"pedestrian-and-vehicle-detector-adas-0001.xml\" \\\n",
    "-i=\"car-detection.mp4\" \\\n",
    "-cc=0.7 -e=\"b\"\n"
   ]
  },
  {
   "cell_type": "markdown",
   "metadata": {},
   "source": [
    "<font color=blue><b>Trip Counts analysis</b></font> - Dynamically identifies the number of times loops and functions are invoked and executed (also called call count/loop count and iteration count respectively). Use Trip Counts data to:\n",
    "* Detect loops with too-small trip counts and trip counts that are not a multiple of vector length.\n",
    "* Analyze parallelism granularity more deeply.\n",
    "\n",
    "<font color=blue><b>FLOP analysis</b></font> - Dynamically measures floating-point and integer operations, and memory traffic. Use the FLOP analysis to generate application memory usage and performance values that help you make better decisions about your vectorization strategy."
   ]
  },
  {
   "cell_type": "code",
   "execution_count": 8,
   "metadata": {},
   "outputs": [],
   "source": [
    "#Trip counts analysis and FLOP analysis\n",
    "!start \"\" cmd /C advixe-cl.exe \\\n",
    "--collect tripcounts -flop -stacks \\\n",
    "--project-dir runs/advise/cpu_run_1 \\\n",
    "-- monitor.exe \\\n",
    "-m=\"pedestrian-and-vehicle-detector-adas-0001.bin\" \\\n",
    "-c=\"pedestrian-and-vehicle-detector-adas-0001.xml\" \\\n",
    "-i=\"car-detection.mp4\" \\\n",
    "-cc=0.7 -e=\"b\""
   ]
  },
  {
   "cell_type": "code",
   "execution_count": 9,
   "metadata": {},
   "outputs": [],
   "source": [
    "!start \"\" cmd /C advixe-cl.exe \\\n",
    "--collect map –mark-up-list=1,2,3,4 \\\n",
    "--project-dir runs/advise/cpu_run_1 \\\n",
    "-- monitor.exe \\\n",
    "-m=\"pedestrian-and-vehicle-detector-adas-0001.bin\" \\\n",
    "-c=\"pedestrian-and-vehicle-detector-adas-0001.xml\" \\\n",
    "-i=\"car-detection.mp4\" \\\n",
    "-cc=0.7 -e=\"b\""
   ]
  },
  {
   "cell_type": "code",
   "execution_count": null,
   "metadata": {},
   "outputs": [],
   "source": [
    "!xcopy \"C:\\Program Files (x86)\\IntelSWTools\\Advisor\\pythonapi\\examples\" \"examples\" /s /e"
   ]
  },
  {
   "cell_type": "code",
   "execution_count": null,
   "metadata": {},
   "outputs": [],
   "source": [
    "#Generate a combined report showing all data collected\n",
    "!\"C:\\Program Files (x86)\\IntelSWTools\\Advisor\\advixe-vars.bat\"\n",
    "#!python \"joined.py\" > report.txt"
   ]
  },
  {
   "cell_type": "code",
   "execution_count": null,
   "metadata": {},
   "outputs": [],
   "source": [
    "#Generate an html report\n",
    "import subprocess\n",
    "subprocess.call([\"advixe-python.exe\", \"to_html.py runs/advise\"])"
   ]
  },
  {
   "cell_type": "code",
   "execution_count": null,
   "metadata": {},
   "outputs": [],
   "source": [
    "!advixe-python.exe to_html.py advise1"
   ]
  },
  {
   "cell_type": "code",
   "execution_count": null,
   "metadata": {},
   "outputs": [],
   "source": [
    "#You need to do a memory access pattern collection to collect cache statistics\n",
    "!start \"\" cmd /C advixe-cl.exe \\\n",
    "--collect map –mark-up-list=4 \\\n",
    "--project-dir advise1 \\\n",
    "-- monitor.exe \\\n",
    "-m=\"pedestrian-and-vehicle-detector-adas-0001.bin\" \\\n",
    "-c=\"pedestrian-and-vehicle-detector-adas-0001.xml\" \\\n",
    "-i=\"car-detection.mp4\" \\\n",
    "-cc=0.7 -e=\"b\""
   ]
  },
  {
   "cell_type": "code",
   "execution_count": null,
   "metadata": {},
   "outputs": [],
   "source": [
    "#conda install -c blaze sqlite3\n",
    "!advixe-python.exe cache.py advise1"
   ]
  },
  {
   "cell_type": "code",
   "execution_count": null,
   "metadata": {},
   "outputs": [],
   "source": [
    "!advixe-python.exe system_info.py advise1"
   ]
  },
  {
   "cell_type": "markdown",
   "metadata": {},
   "source": [
    "# Using Intel® Inspector"
   ]
  },
  {
   "cell_type": "markdown",
   "metadata": {},
   "source": [
    "Intel® Inspector is a dynamic memory and threading error checking tool for users developing serial and multithreaded applications on Windows* and Linux* operating systems. Follow these steps to get started using the Intel Inspector. <br><br>\n",
    "![alt text](Inspector1.jpg) <br>"
   ]
  },
  {
   "cell_type": "code",
   "execution_count": null,
   "metadata": {},
   "outputs": [],
   "source": [
    "!\"C:\\Program Files (x86)\\IntelSWTools\\Inspector 2019\\inspxe-vars.bat\"\n",
    "#For the command line interface:\n",
    "!\"C:\\Program Files (x86)\\IntelSWTools\\Inspector 2019\\bin64\\inspxe-cl.exe\""
   ]
  },
  {
   "cell_type": "code",
   "execution_count": null,
   "metadata": {},
   "outputs": [],
   "source": [
    "#List all checking modes\n",
    "!inspxe-cl.exe -collect-list"
   ]
  },
  {
   "cell_type": "code",
   "execution_count": null,
   "metadata": {},
   "outputs": [],
   "source": [
    "#Collect results and create baseline\n",
    "!start \"\" cmd /K inspxe-cl.exe \\\n",
    "-collect mi2 \\\n",
    "-r inspect7 \\\n",
    "-module-filter cpu_extension.dll \\\n",
    "-module-filter-mode exclude \\\n",
    "-executable-of-interest monitor_debug.exe \\\n",
    "-create-suppression-file \"inspect7/sup\" \\\n",
    "monitor_debug.exe \\\n",
    "-m=\"pedestrian-and-vehicle-detector-adas-0001.bin\" \\\n",
    "-c=\"pedestrian-and-vehicle-detector-adas-0001.xml\" \\\n",
    "-i=\"car-detection.mp4\" \\\n",
    "-cc=0.7 -e=\"b\""
   ]
  },
  {
   "cell_type": "code",
   "execution_count": null,
   "metadata": {},
   "outputs": [],
   "source": [
    "#Collect results and create supression file\n",
    "!start \"\" cmd /K inspxe-cl.exe \\\n",
    "-collect mi2 \\\n",
    "-baseline-result mi2_base \\\n",
    "monitor_debug.exe \\\n",
    "-m=\"pedestrian-and-vehicle-detector-adas-0001.bin\" \\\n",
    "-c=\"pedestrian-and-vehicle-detector-adas-0001.xml\" \\\n",
    "-i=\"car-detection.mp4\" \\\n",
    "-cc=0.7 -e=\"b\""
   ]
  },
  {
   "cell_type": "code",
   "execution_count": null,
   "metadata": {},
   "outputs": [],
   "source": [
    "#Reporting: regression status\n",
    "!inspxe-cl -report status –r inspect6"
   ]
  },
  {
   "cell_type": "code",
   "execution_count": null,
   "metadata": {},
   "outputs": [],
   "source": [
    "#Reporting: problem list\n",
    "!inspxe-cl -report problems –r inspect6"
   ]
  },
  {
   "cell_type": "code",
   "execution_count": null,
   "metadata": {},
   "outputs": [],
   "source": [
    "#Reporting: extended problem list\n",
    "!inspxe-cl -report problems -report-all –r inspect6"
   ]
  },
  {
   "cell_type": "code",
   "execution_count": null,
   "metadata": {},
   "outputs": [],
   "source": [
    "#Reporting: other CLI options\n",
    "#XML output\n",
    "!inspxe-cl -report problems –format=xml -r inspect6"
   ]
  },
  {
   "cell_type": "code",
   "execution_count": null,
   "metadata": {},
   "outputs": [],
   "source": [
    "#CSV output\n",
    "!inspxe-cl -report problems -format csv -csv-delimiter \" \" -report-output inspect6/observations.csv -r inspect6"
   ]
  },
  {
   "cell_type": "code",
   "execution_count": null,
   "metadata": {},
   "outputs": [],
   "source": [
    "!csv_disp.py inspect6/observations.csv"
   ]
  },
  {
   "cell_type": "code",
   "execution_count": null,
   "metadata": {},
   "outputs": [],
   "source": [
    "#Filter from CLI\n",
    "!inspxe-cl -report problems -filter source=main.cpp -filter investigated=not_investigated"
   ]
  },
  {
   "cell_type": "code",
   "execution_count": null,
   "metadata": {},
   "outputs": [],
   "source": [
    "#Export full result\n",
    "!inspxe-cl -export -archive-name inspect6/inspect6.inspxez -include-sources -result-dir inspect6"
   ]
  },
  {
   "cell_type": "code",
   "execution_count": null,
   "metadata": {},
   "outputs": [],
   "source": [
    "#Launch Intel Advisor 2019 GUI\n",
    "!\"C:\\Program Files (x86)\\IntelSWTools\\Advisor 2019\\bin32\\advixe-gui.exe\""
   ]
  },
  {
   "cell_type": "code",
   "execution_count": null,
   "metadata": {},
   "outputs": [],
   "source": [
    "#Launch Intel Inspector 2019 GUI\n",
    "!\"C:\\Program Files (x86)\\IntelSWTools\\Inspector 2019\\bin64\\inspxe-gui.exe\""
   ]
  },
  {
   "cell_type": "code",
   "execution_count": null,
   "metadata": {},
   "outputs": [],
   "source": [
    "#At the end, set the OpenCV tracing flag to zero.\n",
    "%env OPENCV_TRACE=0"
   ]
  },
  {
   "cell_type": "code",
   "execution_count": 4,
   "metadata": {},
   "outputs": [
    {
     "name": "stdout",
     "output_type": "stream",
     "text": [
      "Couldn't find program: 'bash'\n"
     ]
    }
   ],
   "source": [
    "%%bash --out output --err error\n",
    "echo \"hi, stdout\"\n",
    "echo \"hello, stderr\" >&2"
   ]
  },
  {
   "cell_type": "code",
   "execution_count": null,
   "metadata": {},
   "outputs": [],
   "source": []
  }
 ],
 "metadata": {
  "kernelspec": {
   "display_name": "Python 3",
   "language": "python",
   "name": "python3"
  },
  "language_info": {
   "codemirror_mode": {
    "name": "ipython",
    "version": 3
   },
   "file_extension": ".py",
   "mimetype": "text/x-python",
   "name": "python",
   "nbconvert_exporter": "python",
   "pygments_lexer": "ipython3",
   "version": "3.6.6"
  }
 },
 "nbformat": 4,
 "nbformat_minor": 2
}
