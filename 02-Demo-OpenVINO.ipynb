{
 "cells": [
  {
   "cell_type": "raw",
   "metadata": {},
   "source": [
    "Vehicle Analytics -\n",
    "Install mosquitto (64-bit build, Windows Vista and up, built with Visual Studio Community 2017)from https://mosquitto.org/download/\n",
    "Set the Mosquitto path in environment variables and reboot the system"
   ]
  },
  {
   "cell_type": "code",
   "execution_count": null,
   "metadata": {},
   "outputs": [],
   "source": [
    "#Set OpenVINO environment if it is not set. (Jupyter demands this to be set before running the jupyter)\n",
    "!\"C:\\Intel\\computer_vision_sdk\\bin\\setupvars.bat\""
   ]
  },
  {
   "cell_type": "markdown",
   "metadata": {},
   "source": [
    "# OpenVINO Vehicle Analytics Demo"
   ]
  },
  {
   "cell_type": "code",
   "execution_count": null,
   "metadata": {},
   "outputs": [],
   "source": [
    "#See the demo details\n",
    "!monitor.exe -help"
   ]
  },
  {
   "cell_type": "code",
   "execution_count": null,
   "metadata": {},
   "outputs": [],
   "source": [
    "#Download the sample video having cars entering and exiting\n",
    "!curl -L -o car-detection.mp4 \"https://github.com/intel-iot-devkit/sample-videos/raw/master/car-detection.mp4\""
   ]
  },
  {
   "cell_type": "code",
   "execution_count": null,
   "metadata": {},
   "outputs": [],
   "source": [
    "#Install Mosquitto - an Open Source MQTT broker - Eclipse, if it is not installed in the system\n",
    "#!curl -L -o mosquitto-1.5.7-install-windows-x64.exe \"https://mosquitto.org/files/binary/win64/mosquitto-1.5.7-install-windows-x64.exe\""
   ]
  },
  {
   "cell_type": "code",
   "execution_count": null,
   "metadata": {},
   "outputs": [],
   "source": [
    "#!mosquitto-1.5.7-install-windows-x64.exe\n",
    "#Add \"C:\\Program Files\\mosquitto\" in path variable\n",
    "#Restart the jupyter notebook after installation of mosquitto\n",
    "#Run mosquitto in one command prompt\n",
    "#Run below mosquitto_sub in another command prompt"
   ]
  },
  {
   "cell_type": "markdown",
   "metadata": {},
   "source": [
    "#Vehicle Analytics on CPU - run the following command in the separate command prompt by removing # symbol\n",
    "#Below command is to show the mqtt subscribre message comming from the 'parking/counter' topic \n",
    "#from vehicle analytics application. Publishing & Subscribing host is 'test.mosquitto.org'\n",
    "***\n",
    "<b>mosquitto_sub -v -t parking/counter -h test.mosquitto.org</b>\n",
    "***"
   ]
  },
  {
   "cell_type": "code",
   "execution_count": null,
   "metadata": {},
   "outputs": [],
   "source": [
    "#Run the demo\n",
    "!start \"\" cmd /C monitor.exe -m=\"C:/Intel/computer_vision_sdk/deployment_tools/intel_models/pedestrian-and-vehicle-detector-adas-0001/FP32/pedestrian-and-vehicle-detector-adas-0001.bin\" -c=\"C:/Intel/computer_vision_sdk/deployment_tools/intel_models/pedestrian-and-vehicle-detector-adas-0001/FP32/pedestrian-and-vehicle-detector-adas-0001.xml\" -i=\"car-detection.mp4\" -cc=0.7 -e=\"b\""
   ]
  },
  {
   "cell_type": "markdown",
   "metadata": {},
   "source": [
    "# OpenVINO Retail Analytics Demo"
   ]
  },
  {
   "cell_type": "raw",
   "metadata": {},
   "source": [
    "This application monitors people activity inside and outside a facility as well as counts product inventory using neural networks."
   ]
  },
  {
   "cell_type": "code",
   "execution_count": null,
   "metadata": {},
   "outputs": [],
   "source": [
    "!git clone https://github.com/intel-iot-devkit/store-traffic-monitor-python.git"
   ]
  },
  {
   "cell_type": "code",
   "execution_count": null,
   "metadata": {},
   "outputs": [],
   "source": [
    "%cd store-traffic-monitor-python"
   ]
  },
  {
   "cell_type": "code",
   "execution_count": null,
   "metadata": {},
   "outputs": [],
   "source": [
    "#Download the sample video\n",
    "!start \"\" cmd /K python video_downloader.py"
   ]
  },
  {
   "cell_type": "code",
   "execution_count": null,
   "metadata": {},
   "outputs": [],
   "source": [
    "#Download the caffe model to resources folder\n",
    "!python C:\\Intel\\computer_vision_sdk\\deployment_tools\\model_downloader\\downloader.py --name mobilenet-ssd -o resources"
   ]
  },
  {
   "cell_type": "code",
   "execution_count": null,
   "metadata": {},
   "outputs": [],
   "source": [
    "#Convert Caffe model to Intel OpenVINO FP32 IR format (.xml & .bin)\n",
    "!python C:\\Intel\\computer_vision_sdk\\deployment_tools\\model_optimizer\\mo_caffe.py --input_model resources\\object_detection\\common\\mobilenet-ssd\\caffe\\mobilenet-ssd.caffemodel -o resources --mean_values [103.94,116.78,123.68] --scale 58.8235"
   ]
  },
  {
   "cell_type": "code",
   "execution_count": null,
   "metadata": {},
   "outputs": [],
   "source": [
    "#Run the demo by properly providing the relevant directories\n",
    "#Retail Analytics on CPU\n",
    "#Verify the Line no. 331     n, c, h, w = net.inputs[input_blob].shape\n",
    "#if shape is not added to the source code on this line, please add it\n",
    "#If you get an error from OpenH264 Video Codec provided by Cisco Systems, Inc. \n",
    "#then download http://ciscobinary.openh264.org/openh264-1.6.0-win64msvc.dll.bz2, extract and copy it to system32 folder\n",
    "!start \"\" cmd /K python store-traffic-monitor.py -m resources\\mobilenet-ssd.xml -l resources\\labels.txt -e \"%HOMEDRIVE%%HOMEPATH%\\Documents\\Intel\\OpenVINO\\inference_engine_samples_2017\\intel64\\Release\\cpu_extension.dll\" -d CPU"
   ]
  },
  {
   "cell_type": "code",
   "execution_count": null,
   "metadata": {},
   "outputs": [],
   "source": [
    "#Retail Analytics on GPU\n",
    "!start \"\" python store-traffic-monitor.py -m resources/mobilenet-ssd.xml -l resources/labels.txt -d GPU"
   ]
  },
  {
   "cell_type": "markdown",
   "metadata": {},
   "source": [
    "Movidius driver:-\n",
    "If not done before or if it is not working, install the Movidius driver by right click and install command -\n",
    "C:\\Intel\\computer_vision_sdk\\deployment_tools\\inference_engine\\external\\MovidiusDriver\\Movidius_VSC_Device.inf"
   ]
  },
  {
   "cell_type": "code",
   "execution_count": null,
   "metadata": {},
   "outputs": [],
   "source": [
    "#Convert Caffe model to Intel OpenVINO FP16 IR format (.xml & .bin) for inference on Movidius VPU\n",
    "!python C:\\Intel\\computer_vision_sdk\\deployment_tools\\model_optimizer\\mo_caffe.py --input_model resources\\object_detection\\common\\mobilenet-ssd\\caffe\\mobilenet-ssd.caffemodel -o resources --mean_values [103.94,116.78,123.68] --scale 58.8235 --data_type FP16 --model_name mobilenet-ssd-fp16"
   ]
  },
  {
   "cell_type": "code",
   "execution_count": null,
   "metadata": {},
   "outputs": [],
   "source": [
    "#Run the demo by properly providing the relevant directories\n",
    "#Retail Analytics on Movidius VPU\n",
    "!start \"\" cmd /C python store-traffic-monitor.py -m resources/mobilenet-ssd-fp16.xml -l resources/labels.txt -d MYRIAD"
   ]
  },
  {
   "cell_type": "code",
   "execution_count": null,
   "metadata": {},
   "outputs": [],
   "source": []
  }
 ],
 "metadata": {
  "kernelspec": {
   "display_name": "Python 3",
   "language": "python",
   "name": "python3"
  },
  "language_info": {
   "codemirror_mode": {
    "name": "ipython",
    "version": 3
   },
   "file_extension": ".py",
   "mimetype": "text/x-python",
   "name": "python",
   "nbconvert_exporter": "python",
   "pygments_lexer": "ipython3",
   "version": "3.6.6"
  }
 },
 "nbformat": 4,
 "nbformat_minor": 2
}
