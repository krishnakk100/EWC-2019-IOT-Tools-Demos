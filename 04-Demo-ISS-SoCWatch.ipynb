{
 "cells": [
  {
   "cell_type": "markdown",
   "metadata": {},
   "source": [
    "# SoC Watch Demo"
   ]
  },
  {
   "cell_type": "markdown",
   "metadata": {},
   "source": [
    "Intel® SoC Watch is a command line tool for monitoring and debugging system behaviors related to\n",
    "power consumption on Intel® architecture-based platforms. It reports active and low power states for\n",
    "the system/CPU/GPU/devices, processor frequencies and throttling reasons, IO subsystem low power\n",
    "states and latency tolerance, PCH activity, memory and display refresh states, wakeups, and other\n",
    "metrics that provide insight into the system’s energy efficiency. "
   ]
  },
  {
   "cell_type": "markdown",
   "metadata": {},
   "source": [
    "<img src=\"soc_watch_demo_pic.jpg\" alt=\"SoC Watch Demo\" style=\"width:52%;align:left\"/>"
   ]
  },
  {
   "cell_type": "markdown",
   "metadata": {},
   "source": [
    "## Check proper working of SoCWatch tool on the demo machine"
   ]
  },
  {
   "cell_type": "code",
   "execution_count": null,
   "metadata": {
    "scrolled": true
   },
   "outputs": [],
   "source": [
    "#Run this command to check if SoCWatch tool operates via Jupyter terminal in the demo machine\n",
    "\n",
    "#You should get something similar to the below output, followed by help info after executing this cell:\n",
    "# --------------------------------------------------------------------------\n",
    "# ** FOR USE UNDER NDA ONLY **\n",
    "# Intel(R) SoC Watch for Windows* OS Version 2.9.0 [Jan 16 2019]\n",
    "# Driver Version 2.7.1 [Jan 14 2019]\n",
    "# Copyright (c) 2019 Intel Corporation. All Rights Reserved.\n",
    "# Platform power analysis tool for use with Intel processors/chipsets/platforms.\n",
    "# *Other names and brands may be claimed as the property of others. \n",
    "# --------------------------------------------------------------------------\n",
    "\n",
    "# Don't proceed to execute further cells if there are errors while executing this cell\n",
    "\n",
    "! \"C:\\Program Files (x86)\\IntelSWTools\\SoCWatch\\bin\\socwatch.exe\" -h"
   ]
  },
  {
   "cell_type": "markdown",
   "metadata": {},
   "source": [
    "## Store CPU logs in PWR format"
   ]
  },
  {
   "cell_type": "code",
   "execution_count": null,
   "metadata": {
    "scrolled": false
   },
   "outputs": [],
   "source": [
    "#Enter the log name in the format: runs/pwr/cpu_run_i\n",
    "\n",
    "# The logs will be stored in the below directory on the local machine relative to where the SoCWatch_Demo_V2.ipynb \n",
    "# file is stored:\n",
    "# ../runs/pwr/\n",
    "\n",
    "# The option -r vtune collects logs in CSV, PWR and ETL formats\n",
    "\n",
    "! socwatch -t 2 -f cpu -r vtune -m -o runs/pwr/cpu_run_1"
   ]
  },
  {
   "cell_type": "markdown",
   "metadata": {},
   "source": [
    "## Store GPU logs in PWR format"
   ]
  },
  {
   "cell_type": "code",
   "execution_count": null,
   "metadata": {
    "scrolled": false
   },
   "outputs": [],
   "source": [
    "#Enter the log name in the format: runs/pwr/gpu_run_i\n",
    "\n",
    "# The logs will be stored in the below directory on the local machine relative to where the SoCWatch_Demo_V2.ipynb \n",
    "# file is stored:\n",
    "# ../runs/pwr/\n",
    "\n",
    "# The option -r vtune collects logs in CSV, PWR and ETL formats\n",
    "\n",
    "! socwatch -t 2 -f gfx -r vtune -m -o runs/pwr/gpu_run_1"
   ]
  },
  {
   "cell_type": "markdown",
   "metadata": {},
   "source": [
    "## Store PCH logs in PWR format"
   ]
  },
  {
   "cell_type": "code",
   "execution_count": null,
   "metadata": {
    "scrolled": true
   },
   "outputs": [],
   "source": [
    "#Enter the log name in the format: runs/pwr/pch_run_i\n",
    "\n",
    "# The logs will be stored in the below directory on the local machine relative to where the SoCWatch_Demo_V2.ipynb \n",
    "# file is stored:\n",
    "# ../runs/pwr/\n",
    "\n",
    "# The option -r vtune collects logs in CSV, PWR and ETL formats\n",
    "\n",
    "! socwatch -t 2 -f pch -r vtune -m -o runs/pwr/pch_run_1"
   ]
  },
  {
   "cell_type": "markdown",
   "metadata": {},
   "source": [
    "## View the SoCWatch logs in CSV format"
   ]
  },
  {
   "cell_type": "code",
   "execution_count": null,
   "metadata": {
    "scrolled": false
   },
   "outputs": [],
   "source": [
    "#Pass the name of the CSV file as the argument to csv_disp.py script in the format: cpu_run_i.csv\n",
    "\n",
    "! python csv_disp.py pch_run_1.csv"
   ]
  },
  {
   "cell_type": "markdown",
   "metadata": {},
   "source": [
    "## View the SoCWatch logs in VTune GUI"
   ]
  },
  {
   "cell_type": "code",
   "execution_count": null,
   "metadata": {
    "scrolled": true
   },
   "outputs": [],
   "source": [
    "#Pass the name of the PWR file as the argument to vtune_disp.py script in the format: cpu_run_i.PWR\n",
    "\n",
    "! python vtune_disp.py cpu_run_1.pwr"
   ]
  },
  {
   "cell_type": "code",
   "execution_count": null,
   "metadata": {
    "scrolled": true
   },
   "outputs": [],
   "source": []
  }
 ],
 "metadata": {
  "kernelspec": {
   "display_name": "Python 2",
   "language": "python",
   "name": "python2"
  },
  "language_info": {
   "codemirror_mode": {
    "name": "ipython",
    "version": 2
   },
   "file_extension": ".py",
   "mimetype": "text/x-python",
   "name": "python",
   "nbconvert_exporter": "python",
   "pygments_lexer": "ipython2",
   "version": "2.7.9"
  }
 },
 "nbformat": 4,
 "nbformat_minor": 2
}
