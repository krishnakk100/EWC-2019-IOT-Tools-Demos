{
 "cells": [
  {
   "cell_type": "markdown",
   "metadata": {},
   "source": [
    "# Intel® System Debugger"
   ]
  },
  {
   "cell_type": "markdown",
   "metadata": {},
   "source": [
    "The System Debug feature of the Intel® System Debugger is a JTAG-based debug solution supporting in-depth debugging and tracing of Intel® Architecture-based System Software and Embedded Applications. It enables developers to debug and trace Intel® Architecture based platforms system-wide, e.g. UEFI / firmware, System-on-Chip peripheral registers, OS kernel and drivers with full OS awareness.\n",
    "\n",
    "The Intel® System Debugger - System Debug provides Windows* hosted cross-debug solutions for software developers to debug UEFI BIOS, the Linux* kernel sources and dynamically loaded drivers and kernel modules on Intel Atom® processor and Intel® Core™ based devices."
   ]
  },
  {
   "cell_type": "markdown",
   "metadata": {},
   "source": [
    "There are two primary ways to establish connection to target- DAL and OpenIPC. We will cover both these approaches in this demo."
   ]
  },
  {
   "cell_type": "markdown",
   "metadata": {},
   "source": [
    "## Using DAL "
   ]
  },
  {
   "cell_type": "markdown",
   "metadata": {},
   "source": [
    "<img src=\"PythonCLI01.PNG\" alt=\"PythonCLI-01\" style=\"width:80%;align: left\"/>"
   ]
  },
  {
   "cell_type": "markdown",
   "metadata": {},
   "source": [
    "The Intel® DFx Abstraction Layer (Intel® DAL) provides a rich source of functionality for debugging target platforms and associated silicon. The Intel DAL abstracts away the target-specific details on how to access the features of interest, such as model-specific registers (MSRs), entering and exiting probe mode, various forms of hardware break detects, and more. The Python* Command Line Interface (Python* CLI) provides access to this functionality in an easy-to-use form while still allowing access to the more advanced features of the Intel DAL"
   ]
  },
  {
   "cell_type": "code",
   "execution_count": null,
   "metadata": {},
   "outputs": [],
   "source": [
    "#Change the directory to Intel's DAL from Intel® System Debugger\n",
    "#Note that the version of DAL installed on the demo machine should match the version given in this cell\n",
    "\n",
    "%cd \"C:/Intel/DAL_1.1831.340.110\""
   ]
  },
  {
   "cell_type": "code",
   "execution_count": null,
   "metadata": {},
   "outputs": [],
   "source": [
    "#Select the right config file based on the target platform\n",
    "\n",
    "! ConfigConsole.exe"
   ]
  },
  {
   "cell_type": "code",
   "execution_count": null,
   "metadata": {},
   "outputs": [],
   "source": [
    "#Establish target connection; wait for a while and observe green lights on the CCA\n",
    "\n",
    "! python itpii/startup.py"
   ]
  },
  {
   "cell_type": "code",
   "execution_count": null,
   "metadata": {},
   "outputs": [],
   "source": [
    "# Call the itpii.baseaccess() command to get an instance of the itpii.ItpII class\n",
    "\n",
    "import sys, os\n",
    "dalDir = r\"C:/Intel/DAL_1.1831.340.110\"\n",
    "sys.path.insert(0, dalDir)\n",
    "import itpii\n",
    "itp = itpii.baseaccess()"
   ]
  },
  {
   "cell_type": "code",
   "execution_count": null,
   "metadata": {},
   "outputs": [],
   "source": [
    "# Check DAL version\n",
    "\n",
    "itp.cv.version"
   ]
  },
  {
   "cell_type": "markdown",
   "metadata": {},
   "source": [
    "### Enter/Exit Probe Mode"
   ]
  },
  {
   "cell_type": "code",
   "execution_count": null,
   "metadata": {},
   "outputs": [],
   "source": [
    "# Put all the threads into probe mode\n",
    "\n",
    "# Output shows a series of messages which describes how each thread entered probe mode and at what address they \n",
    "# were executing at the time they were halted\n",
    "\n",
    "itp.halt()\n",
    "itp.status()"
   ]
  },
  {
   "cell_type": "code",
   "execution_count": null,
   "metadata": {},
   "outputs": [],
   "source": [
    "# Resume execution of all threads\n",
    "\n",
    "itp.go()\n",
    "itp.status()"
   ]
  },
  {
   "cell_type": "code",
   "execution_count": null,
   "metadata": {},
   "outputs": [],
   "source": [
    "# Show current breakall setting\n",
    "\n",
    "itp.cv.breakall"
   ]
  },
  {
   "cell_type": "code",
   "execution_count": null,
   "metadata": {},
   "outputs": [],
   "source": [
    "# ***********************************************************************************\n",
    "\n",
    "# Use the control variable called 'breakall' to change the behavior of the Intel DAL in regards to what happens to other threads \n",
    "# when a specific thread is told to halt (that is, enter probe mode). \n",
    "\n",
    "# If breakall = \"off\", DAL halts only one specific thread and leaves the other threads running\n",
    "\n",
    "# If breakall = \"global\", DAL halts all threads when one specific thread is halted\n",
    "\n",
    "# Keep any one statement active below, based on the thread halt behavior desired; default value is breakall = \"global\"\n",
    "\n",
    "# ***********************************************************************************\n",
    "\n",
    "# itp.cv.breakall = \"off\"\n",
    "itp.cv.breakall = \"global\""
   ]
  },
  {
   "cell_type": "code",
   "execution_count": null,
   "metadata": {},
   "outputs": [],
   "source": [
    "# Demonstrate the use of breakall- part 1\n",
    "\n",
    "# Below statements halt only the first thread, and the other threads are kept running\n",
    "\n",
    "itp.threads[0].halt()\n",
    "itp.status()"
   ]
  },
  {
   "cell_type": "code",
   "execution_count": null,
   "metadata": {},
   "outputs": [],
   "source": [
    "# Demonstrate the use of breakall- part 2\n",
    "\n",
    "# Below statements resume the first thread which was halted in the previous step; the other threads are not affected\n",
    "\n",
    "itp.threads[0].go()\n",
    "itp.status()"
   ]
  },
  {
   "cell_type": "markdown",
   "metadata": {},
   "source": [
    "### View/Modify Registers"
   ]
  },
  {
   "cell_type": "code",
   "execution_count": null,
   "metadata": {},
   "outputs": [],
   "source": [
    "# Create aliases for threads\n",
    "\n",
    "t0 = itp.threads[0]\n",
    "t1 = itp.threads[1]\n",
    "t2 = itp.threads[2]\n",
    "t3 = itp.threads[3]"
   ]
  },
  {
   "cell_type": "code",
   "execution_count": null,
   "metadata": {},
   "outputs": [],
   "source": [
    "# View desired registers for debug\n",
    "\n",
    "# Use \"Tab\" key to get a list of registers using the below template:\n",
    "# print t0.state.regs.<tab>\n",
    "\n",
    "print t0.state.regs.rip\n",
    "print t0.state.regs.rflags"
   ]
  },
  {
   "cell_type": "code",
   "execution_count": null,
   "metadata": {},
   "outputs": [],
   "source": [
    "# Save rflags value\n",
    "\n",
    "savedRflags = t0.state.regs.rflags.value"
   ]
  },
  {
   "cell_type": "code",
   "execution_count": null,
   "metadata": {},
   "outputs": [],
   "source": [
    "# Update rflags value to all 1s (0xfffffffff)\n",
    "\n",
    "t0.state.regs.rflags = 0xfffffffff\n",
    "print \"Updated rflags value:\\n%s\"%t0.state.regs.rflags\n",
    "\n",
    "print \"\\n\\nExpanded view of rflags:\"\n",
    "t0.state.regs.rflags"
   ]
  },
  {
   "cell_type": "code",
   "execution_count": null,
   "metadata": {},
   "outputs": [],
   "source": [
    "# Restore rflags value\n",
    "\n",
    "t0.state.regs.rflags = savedRflags\n",
    "print \"Restored flags value is:\\n%s\"%t0.state.regs.rflags\n",
    "\n",
    "print \"\\n\\nExpanded view of rflags:\"\n",
    "t0.state.regs.rflags"
   ]
  },
  {
   "cell_type": "markdown",
   "metadata": {},
   "source": [
    "### Check/Modify Target Status"
   ]
  },
  {
   "cell_type": "code",
   "execution_count": null,
   "metadata": {},
   "outputs": [],
   "source": [
    "# Check target power status\n",
    "\n",
    "itp.cv.targpower"
   ]
  },
  {
   "cell_type": "code",
   "execution_count": null,
   "metadata": {},
   "outputs": [],
   "source": [
    "# Check processor mode\n",
    "\n",
    "t0.cv.asmmode"
   ]
  },
  {
   "cell_type": "code",
   "execution_count": null,
   "metadata": {},
   "outputs": [],
   "source": [
    "# List the known TAP devices; the devices primarily hold information about the silicon or portion of silicon it is representing\n",
    "\n",
    "itp.devicelist"
   ]
  },
  {
   "cell_type": "code",
   "execution_count": null,
   "metadata": {},
   "outputs": [],
   "source": [
    "# Display processor's running state and execution mode\n",
    "\n",
    "itp.status()"
   ]
  },
  {
   "cell_type": "code",
   "execution_count": null,
   "metadata": {},
   "outputs": [],
   "source": [
    "# Display the cause and address of the recent break event for the selected threads specified by the variable tid\n",
    "\n",
    "tid = 1\n",
    "\n",
    "print \"Status of recent break event for thread[%d]:\"%tid\n",
    "itp.threads[tid].cv.cause"
   ]
  },
  {
   "cell_type": "code",
   "execution_count": null,
   "metadata": {},
   "outputs": [],
   "source": [
    "# Perform disassembly for the n instructions from the current instruction pointer for the selected threads \n",
    "# specified by the variable tid\n",
    "\n",
    "tid = 0\n",
    "n   = 10\n",
    "itp.threads[tid].asm(\"$\", n)"
   ]
  },
  {
   "cell_type": "code",
   "execution_count": null,
   "metadata": {},
   "outputs": [],
   "source": [
    "# Dump memory contents as specifed below:\n",
    "# tid                --> selected thread\n",
    "# start_addr         --> first address from where to start dump\n",
    "# no_of_words        --> number of words to be read in the dump file\n",
    "# wordsize_in_bytes  --> 1 for 8 bit word\n",
    "#                        2 for 16 bit word\n",
    "#                        4 for 32 bit word \n",
    "#                        8 for 64 bit word \n",
    "\n",
    "tid = 0\n",
    "start_addr = \"0x89E5DE00P\"\n",
    "no_of_words = 25\n",
    "wordsize_in_bytes = 4\n",
    "\n",
    "itp.threads[tid].memdump(start_addr, no_of_words, wordsize_in_bytes)"
   ]
  },
  {
   "cell_type": "markdown",
   "metadata": {},
   "source": [
    "### Handling Breakpoints"
   ]
  },
  {
   "cell_type": "code",
   "execution_count": null,
   "metadata": {},
   "outputs": [],
   "source": [
    "# Set a breakpoint\n",
    "\n",
    "itp.brnew(\"0x100P\", \"io\")"
   ]
  },
  {
   "cell_type": "code",
   "execution_count": null,
   "metadata": {},
   "outputs": [],
   "source": [
    "# View breakpoints\n",
    "\n",
    "itp.brget()"
   ]
  },
  {
   "cell_type": "markdown",
   "metadata": {},
   "source": [
    "### Usage of Debug Scripts"
   ]
  },
  {
   "cell_type": "code",
   "execution_count": null,
   "metadata": {},
   "outputs": [],
   "source": [
    "# Demonstrates the use of writing a small script to perform a specific debugging task\n",
    "\n",
    "# Function resetpower() powercycles the target, puts all the cores in probe mode and \n",
    "# displays the status of all the halted cores\n",
    "\n",
    "def resetpower():     \n",
    "    import os  \n",
    "    itp.sleep(3)\n",
    "    itp.resettarget()\n",
    "    if t0.cv.isrunning:\n",
    "        itp.halt()\n",
    "    itp.status()\n",
    "\n",
    "resetpower()"
   ]
  },
  {
   "cell_type": "markdown",
   "metadata": {},
   "source": [
    "## Using OpenIPC"
   ]
  },
  {
   "cell_type": "code",
   "execution_count": 1,
   "metadata": {},
   "outputs": [
    {
     "name": "stderr",
     "output_type": "stream",
     "text": [
      "Python 2.7.15\n"
     ]
    }
   ],
   "source": [
    "! python -V"
   ]
  },
  {
   "cell_type": "code",
   "execution_count": 2,
   "metadata": {},
   "outputs": [
    {
     "name": "stdout",
     "output_type": "stream",
     "text": [
      "Connecting to IPC API....\n",
      "IPC-CLI: 1.1839.957.100, OpenIPC:Main (rev 609620) : 1.1839.3251.200\n",
      "Initializing IPC API....\n",
      "\n"
     ]
    }
   ],
   "source": [
    "import ipccli\n",
    "itp = ipccli.baseaccess()"
   ]
  },
  {
   "cell_type": "code",
   "execution_count": 3,
   "metadata": {},
   "outputs": [
    {
     "data": {
      "text/plain": [
       "'IPC-CLI Version 1.1839.957.100'"
      ]
     },
     "execution_count": 3,
     "metadata": {},
     "output_type": "execute_result"
    }
   ],
   "source": [
    "itp.cv.version"
   ]
  },
  {
   "cell_type": "markdown",
   "metadata": {},
   "source": [
    "### Enter/Exit Probe Mode"
   ]
  },
  {
   "cell_type": "code",
   "execution_count": 6,
   "metadata": {},
   "outputs": [
    {
     "name": "stdout",
     "output_type": "stream",
     "text": [
      "Status for       : GLM_C0_T0\n",
      "  Processor      : Halted\n",
      "  Processor mode : Unknown\n",
      "Status for       : GLM_C2_T0\n",
      "  Processor      : Halted\n",
      "  Processor mode : Unknown\n",
      "\n"
     ]
    }
   ],
   "source": [
    "# Put all the threads into probe mode\n",
    "\n",
    "# Output shows a series of messages which describes how each thread entered probe mode and at what address they \n",
    "# were executing at the time they were halted\n",
    "itp.halt()\n",
    "itp.status()"
   ]
  },
  {
   "cell_type": "code",
   "execution_count": 5,
   "metadata": {},
   "outputs": [
    {
     "name": "stdout",
     "output_type": "stream",
     "text": [
      "Status for       : GLM_C0_T0\n",
      "  Processor      : Running\n",
      "  Processor mode : Unavailable while Running\n",
      "Status for       : GLM_C2_T0\n",
      "  Processor      : Running\n",
      "  Processor mode : Unavailable while Running\n",
      "\n"
     ]
    }
   ],
   "source": [
    "# Resume execution of all threads\n",
    "itp.go()\n",
    "itp.status()"
   ]
  },
  {
   "cell_type": "markdown",
   "metadata": {},
   "source": [
    "### View/Modify Registers"
   ]
  },
  {
   "cell_type": "code",
   "execution_count": 7,
   "metadata": {},
   "outputs": [],
   "source": [
    "# Create aliases for threads\n",
    "t0 = itp.threads[0]\n",
    "t1 = itp.threads[1]"
   ]
  },
  {
   "cell_type": "code",
   "execution_count": 8,
   "metadata": {},
   "outputs": [
    {
     "name": "stdout",
     "output_type": "stream",
     "text": [
      "[64b] 0x0000000077DAC098\n",
      "[64b] 0x0000000000000206\n",
      "[64b] 0x000000007780A461\n"
     ]
    }
   ],
   "source": [
    "# View desired registers for debug\n",
    "\n",
    "# Use \"Tab\" key to get a list of registers using the below template:\n",
    "# print t0.state.regs.<tab>\n",
    "\n",
    "print t0.state.regs.ebx\n",
    "print t0.state.regs.rflags\n",
    "print t0.state.regs.eip"
   ]
  },
  {
   "cell_type": "code",
   "execution_count": 9,
   "metadata": {},
   "outputs": [],
   "source": [
    "savedRflags = t0.state.regs.rflags"
   ]
  },
  {
   "cell_type": "code",
   "execution_count": 10,
   "metadata": {},
   "outputs": [
    {
     "name": "stdout",
     "output_type": "stream",
     "text": [
      "Updated rflags value:\n",
      "[64b] 0x0000000FFFFFFFFF\n"
     ]
    }
   ],
   "source": [
    "# Update rflags value to all 1s (0xfffffffff)\n",
    "\n",
    "t0.state.regs.rflags = 0xfffffffff\n",
    "print \"Updated rflags value:\\n%s\"%t0.state.regs.rflags"
   ]
  },
  {
   "cell_type": "code",
   "execution_count": 11,
   "metadata": {},
   "outputs": [
    {
     "name": "stdout",
     "output_type": "stream",
     "text": [
      "Restored flags value is:\n",
      "[64b] 0x0000000000000206\n"
     ]
    }
   ],
   "source": [
    "# Restore rflags value\n",
    "\n",
    "t0.state.regs.rflags = savedRflags\n",
    "print \"Restored flags value is:\\n%s\"%t0.state.regs.rflags"
   ]
  },
  {
   "cell_type": "code",
   "execution_count": 12,
   "metadata": {},
   "outputs": [
    {
     "data": {
      "text/plain": [
       "GLM_C0_T0.msr - [64b] 0x00000000FF800001\n",
       "GLM_C2_T0.msr - [64b] 0x00000000FF800001"
      ]
     },
     "execution_count": 12,
     "metadata": {},
     "output_type": "execute_result"
    }
   ],
   "source": [
    "# Check MSR (Model Specific Register) values\n",
    "\n",
    "itp.threads.msr(0x200)"
   ]
  },
  {
   "cell_type": "markdown",
   "metadata": {},
   "source": [
    "### Check/Modify Target Status"
   ]
  },
  {
   "cell_type": "code",
   "execution_count": 13,
   "metadata": {},
   "outputs": [
    {
     "data": {
      "text/plain": [
       "True"
      ]
     },
     "execution_count": 13,
     "metadata": {},
     "output_type": "execute_result"
    }
   ],
   "source": [
    "# Check target power status\n",
    "\n",
    "itp.cv.targpower"
   ]
  },
  {
   "cell_type": "code",
   "execution_count": 15,
   "metadata": {},
   "outputs": [
    {
     "data": {
      "text/plain": [
       "'use32'"
      ]
     },
     "execution_count": 15,
     "metadata": {},
     "output_type": "execute_result"
    }
   ],
   "source": [
    "# Check processor mode for the selected threads specified by the variable 'tid'\n",
    "\n",
    "tid = 1\n",
    "itp.threads[tid].cv.asmmode"
   ]
  },
  {
   "cell_type": "code",
   "execution_count": 16,
   "metadata": {},
   "outputs": [
    {
     "data": {
      "text/plain": [
       "Indx DID         Alias                                    Type                                    Step Idcode      P/D/ C/T  Enabled\n",
       "--------------------------------------------------------------------------------------------------------------------------------------------\n",
       "0    0x00003000  BXTP_CLTAPC0                             BXTP_CLTAPC                             B3   0x00A89013   0/-/ -/-  Yes\n",
       "1    0x00004000  NORTHPEAK_TAP0                           NORTHPEAK_TAP                           B3   0x00100023   0/-/ -/-  Yes\n",
       "2    0x00004001  RDU_SE_TAP0                              RDU_SE_TAP                              B3   0x0210002D   0/-/ -/-  Yes\n",
       "3    0x00004002  CDU_SATAPCIE_TAP0                        CDU_SATAPCIE_TAP                        B3   0x02101613   0/-/ -/-  Yes\n",
       "4    0x00004003  CDU_SATAPCIE_SCAN_TAP0                   CDU_SATAPCIE_SCAN_TAP                   B3   0x00100915   0/-/ -/-  Yes\n",
       "5    0x00004004  CDU_SATAPCIE_RETIME_TAP0                 CDU_SATAPCIE_RETIME_TAP                 B3   0x00100905   0/-/ -/-  Yes\n",
       "6    0x00004005  CDU_PCIE_TAP0                            CDU_PCIE_TAP                            B3   0x0210162B   0/-/ -/-  Yes\n",
       "7    0x00004006  CDU_PCIE_SCAN_TAP0                       CDU_PCIE_SCAN_TAP                       B3   0x00101515   0/-/ -/-  Yes\n",
       "8    0x00004007  CDU_PCIE_RETIME_TAP0                     CDU_PCIE_RETIME_TAP                     B3   0x00101505   0/-/ -/-  Yes\n",
       "9    0x00004008  CDU_USBDEV_TAP0                          CDU_USBDEV_TAP                          B3   0x02101625   0/-/ -/-  Yes\n",
       "10   0x00004009  CDU_USBDEV_SCAN_TAP0                     CDU_USBDEV_SCAN_TAP                     B3   0x0010124D   0/-/ -/-  Yes\n",
       "11   0x0000400A  CDU_USBDEV_RETIME_TAP0                   CDU_USBDEV_RETIME_TAP                   B3   0x0010124F   0/-/ -/-  Yes\n",
       "12   0x0000400B  CDU_PSF2_TAP0                            CDU_PSF2_TAP                            B3   0x0210160B   0/-/ -/-  Yes\n",
       "13   0x0000400C  CDU_PSF2_SCAN_TAP0                       CDU_PSF2_SCAN_TAP                       B3   0x0010055B   0/-/ -/-  Yes\n",
       "14   0x0000400D  CDU_PSF2_RETIME_TAP0                     CDU_PSF2_RETIME_TAP                     B3   0x001005CF   0/-/ -/-  Yes\n",
       "15   0x0000400E  CDU_PSF1_TAP0                            CDU_PSF1_TAP                            B3   0x0210160D   0/-/ -/-  Yes\n",
       "16   0x0000400F  CDU_PSF1_SCAN_TAP0                       CDU_PSF1_SCAN_TAP                       B3   0x0010065F   0/-/ -/-  Yes\n",
       "17   0x00004010  CDU_PSF1_RETIME_TAP0                     CDU_PSF1_RETIME_TAP                     B3   0x00100661   0/-/ -/-  Yes\n",
       "18   0x00004011  CDU_PSF0_TAP0                            CDU_PSF0_TAP                            B3   0x02101605   0/-/ -/-  Yes\n",
       "19   0x00004012  CDU_PSF0_SCAN_TAP0                       CDU_PSF0_SCAN_TAP                       B3   0x0010025D   0/-/ -/-  Yes\n",
       "20   0x00004013  CDU_PSF0_RETIME_TAP0                     CDU_PSF0_RETIME_TAP                     B3   0x0010025F   0/-/ -/-  Yes\n",
       "21   0x00004014  CDU_USBHOST_TAP0                         CDU_USBHOST_TAP                         B3   0x02101627   0/-/ -/-  Yes\n",
       "22   0x00004015  USBHOST_USB2A_TAP0                       USBHOST_USB2A_TAP                       B3   0x0010138D   0/-/ -/-  Yes\n",
       "23   0x00004016  USBHOST_USB2B_TAP0                       USBHOST_USB2B_TAP                       B3   0x00101353   0/-/ -/-  Yes\n",
       "24   0x00004017  USBHOST_MPHY_TAP0                        USBHOST_MPHY_TAP                        B3   0x00101355   0/-/ -/-  Yes\n",
       "25   0x00004018  CDU_USBHOST_SCAN_TAP0                    CDU_USBHOST_SCAN_TAP                    B3   0x00101357   0/-/ -/-  Yes\n",
       "26   0x00004019  CDU_USBHOST_RETIME_TAP0                  CDU_USBHOST_RETIME_TAP                  B3   0x00101303   0/-/ -/-  Yes\n",
       "27   0x0000401A  CDU_GMM_TAP0                             CDU_GMM_TAP                             B3   0x02101603   0/-/ -/-  Yes\n",
       "28   0x0000401B  TAM_TAP0                                 TAM_TAP                                 B3   0x0010017F   0/-/ -/-  Yes\n",
       "29   0x0000401C  CDU_GMM_SCAN_TAP0                        CDU_GMM_SCAN_TAP                        B3   0x00100185   0/-/ -/-  Yes\n",
       "30   0x0000401D  CDU_GMM_RETIME_TAP0                      CDU_GMM_RETIME_TAP                      B3   0x00100189   0/-/ -/-  Yes\n",
       "31   0x0000401E  CDU_DISPTOO_TAP0                         CDU_DISPTOO_TAP                         B3   0x02101631   0/-/ -/-  Yes\n",
       "32   0x0000401F  CDU_DISP_TAP0                            CDU_DISP_TAP                            B3   0x02101823   0/-/ -/-  Yes\n",
       "33   0x00004020  DISP_MIPIO_TAP0                          DISP_MIPIO_TAP                          B3   0x00101107   0/-/ -/-  Yes\n",
       "34   0x00004021  DISP_EDP_TAP0                            DISP_EDP_TAP                            B3   0x00101103   0/-/ -/-  Yes\n",
       "35   0x00004022  CDU_DISP_SCAN_TAP0                       CDU_DISP_SCAN_TAP                       B3   0x00101173   0/-/ -/-  Yes\n",
       "36   0x00004023  CDU_DISP_RETIME_TAP0                     CDU_DISP_RETIME_TAP                     B3   0x0010112D   0/-/ -/-  Yes\n",
       "37   0x00004024  DISPSOC_TAP0                             DISPSOC_TAP                             B3   0x00101805   0/-/ -/-  Yes\n",
       "38   0x00004025  CDU_DISPTOO_SCAN_TAP0                    CDU_DISPTOO_SCAN_TAP                    B3   0x00101809   0/-/ -/-  Yes\n",
       "39   0x00004026  CDU_DISPTOO_RETIME_TAP0                  CDU_DISPTOO_RETIME_TAP                  B3   0x0010180B   0/-/ -/-  Yes\n",
       "40   0x00004027  CDU_DISP2DDI_TAP0                        CDU_DISP2DDI_TAP                        B3   0x0210160F   0/-/ -/-  Yes\n",
       "41   0x00004028  DISP_DP_PHY_TAP0                         DISP_DP_PHY_TAP                         B3   0x00100747   0/-/ -/-  Yes\n",
       "42   0x00004029  CDU_DISP2DDI_SCAN_TAP0                   CDU_DISP2DDI_SCAN_TAP                   B3   0x001007BF   0/-/ -/-  Yes\n",
       "43   0x0000402A  CDU_DISP2DDI_RETIME_TAP0                 CDU_DISP2DDI_RETIME_TAP                 B3   0x001007C3   0/-/ -/-  Yes\n",
       "44   0x0000402B  CDU_MUXMODPHY_TAP0                       CDU_MUXMODPHY_TAP                       B3   0x02101607   0/-/ -/-  Yes\n",
       "45   0x0000402C  MUXMODPHY_COM0_TAP0                      MUXMODPHY_COM0_TAP                      B3   0x00100303   0/-/ -/-  Yes\n",
       "46   0x0000402D  MUXMODPHY_COM1_TAP0                      MUXMODPHY_COM1_TAP                      B3   0x0010030B   0/-/ -/-  Yes\n",
       "47   0x0000402E  CDU_MUXMODPHY_SCAN_TAP0                  CDU_MUXMODPHY_SCAN_TAP                  B3   0x00100317   0/-/ -/-  Yes\n",
       "48   0x0000402F  CDU_MUXMODPHY_RETIME_TAP0                CDU_MUXMODPHY_RETIME_TAP                B3   0x00100305   0/-/ -/-  Yes\n",
       "49   0x00004030  RDU_SE_SCAN_TAP0                         RDU_SE_SCAN_TAP                         B3   0x00101641   0/-/ -/-  Yes\n",
       "50   0x00004031  RDU_SE_RETIME_TAP0                       RDU_SE_RETIME_TAP                       B3   0x00101637   0/-/ -/-  Yes\n",
       "51   0x00004032  RDU_MID_TAP0                             RDU_MID_TAP                             B3   0x0210002F   0/-/ -/-  Yes\n",
       "52   0x00004033  CDU_BTUNIT_TAP0                          CDU_BTUNIT_TAP                          B3   0x02101705   0/-/ -/-  Yes\n",
       "53   0x00004034  CDU_BTUNIT_SCAN_TAP0                     CDU_BTUNIT_SCAN_TAP                     B3   0x001002AB   0/-/ -/-  Yes\n",
       "54   0x00004035  CDU_BTUNIT_RETIME_TAP0                   CDU_BTUNIT_RETIME_TAP                   B3   0x001002AD   0/-/ -/-  Yes\n",
       "55   0x00004036  CDU_AUNIT_TAP0                           CDU_AUNIT_TAP                           B3   0x02101715   0/-/ -/-  Yes\n",
       "56   0x00004037  CDU_AUNIT_SCAN_TAP0                      CDU_AUNIT_SCAN_TAP                      B3   0x00100A71   0/-/ -/-  Yes\n",
       "57   0x00004038  CDU_AUNIT_RETIME_TAP0                    CDU_AUNIT_RETIME_TAP                    B3   0x00100A75   0/-/ -/-  Yes\n",
       "58   0x00004039  CDU_PUNIT_TAP0                           CDU_PUNIT_TAP                           B3   0x0210171D   0/-/ -/-  Yes\n",
       "59   0x0000403A  PUNIT_TAP0                               BXTP_PUNIT_TAP                          B3   0x00100EA5   0/-/ -/-  Yes\n",
       "60   0x0000403B  CDU_PUNIT_SCAN_TAP0                      CDU_PUNIT_SCAN_TAP                      B3   0x00100EB5   0/-/ -/-  Yes\n",
       "61   0x0000403C  CDU_PUNIT_RETIME_TAP0                    CDU_PUNIT_RETIME_TAP                    B3   0x00100E4D   0/-/ -/-  Yes\n",
       "62   0x0000403D  CDU_1LM_TAP0                             CDU_1LM_TAP                             B3   0x02101707   0/-/ -/-  Yes\n",
       "63   0x0000403E  CDU_DDRW_TAP0                            CDU_DDRW_TAP                            B3   0x02100317   0/-/ -/-  Yes\n",
       "64   0x0000403F  LPDDRPHYW_TAP0                           LPDDRPHYW_TAP                           B3   0x00100B21   0/-/ -/-  Yes\n",
       "65   0x00004040  LPDDRPHYW_PLL_TAP0                       LPDDRPHYW_PLL_TAP                       B3   0x00100BBB   0/-/ -/-  Yes\n",
       "66   0x00004041  CDU_DDRW_SCAN_TAP0                       CDU_DDRW_SCAN_TAP                       B3   0x00100B41   0/-/ -/-  Yes\n",
       "67   0x00004042  CDU_DDRW_RETIME_TAP0                     CDU_DDRW_RETIME_TAP                     B3   0x00100B43   0/-/ -/-  Yes\n",
       "68   0x00004043  CDU_1LM_SCAN_TAP0                        CDU_1LM_SCAN_TAP                        B3   0x00100359   0/-/ -/-  Yes\n",
       "69   0x00004044  CDU_1LM_RETIME_TAP0                      CDU_1LM_RETIME_TAP                      B3   0x0010035B   0/-/ -/-  Yes\n",
       "70   0x00004045  CDU_1LME_TAP0                            CDU_1LME_TAP                            B3   0x0210170F   0/-/ -/-  Yes\n",
       "71   0x00004046  CDU_DDRE_TAP0                            CDU_DDRE_TAP                            B3   0x02100713   0/-/ -/-  Yes\n",
       "72   0x00004047  LPDDRPHYE_TAP0                           LPDDRPHYE_TAP                           B3   0x001009A3   0/-/ -/-  Yes\n",
       "73   0x00004048  LPDDRPHYE_PLL_TAP0                       LPDDRPHYE_PLL_TAP                       B3   0x001009B1   0/-/ -/-  Yes\n",
       "74   0x00004049  CDU_DDRE_SCAN_TAP0                       CDU_DDRE_SCAN_TAP                       B3   0x001009A7   0/-/ -/-  Yes\n",
       "75   0x0000404A  CDU_DDRE_RETIME_TAP0                     CDU_DDRE_RETIME_TAP                     B3   0x0010094B   0/-/ -/-  Yes\n",
       "76   0x0000404B  CDU_1LME_SCAN_TAP0                       CDU_1LME_SCAN_TAP                       B3   0x00100703   0/-/ -/-  Yes\n",
       "77   0x0000404C  CDU_1LME_RETIME_TAP0                     CDU_1LME_RETIME_TAP                     B3   0x00100713   0/-/ -/-  Yes\n",
       "78   0x0000404D  CDU_GLM0_TAP0                            CDU_GLM0_TAP                            B3   0x02101711   0/-/ -/-  Yes\n",
       "79   0x00005000  GLM_MODULE0                              GLM_MODULE                              E0   0x3A699013   0/-/ -/-  Yes\n",
       "80   0x00002000  GLM_C0                                   GLM_C                                   E0   0x3A699013   0/-/ 0/-  Yes\n",
       "81   0x00001000  GLM_C0_T0                                GLM                                     E0   0x3A699013   0/-/ 0/0  Yes\n",
       "82   0x0000404E  CDU_GLM1_TAP0                            CDU_GLM1_TAP                            B3   0x0210170D   0/-/ -/-  Yes\n",
       "83   0x00005001  GLM_MODULE1                              GLM_MODULE                              E0   0x3A699013   0/-/ -/-  Yes\n",
       "84   0x00002002  GLM_C2                                   GLM_C                                   E0   0x3A699013   0/-/ 0/-  Yes\n",
       "85   0x00001002  GLM_C2_T0                                GLM                                     E0   0x3A699013   0/-/ 0/0  Yes\n",
       "86   0x0000404F  CDU_CCP_CCI_TAP0                         CDU_CCP_CCI_TAP                         B3   0x02101703   0/-/ -/-  Yes\n",
       "87   0x00004050  CCP_TAP0                                 CCP_TAP                                 B3   0x0010018B   0/-/ -/-  Yes\n",
       "88   0x00004051  CDU_CCP_CCI_SCAN_TAP0                    CDU_CCP_CCI_SCAN_TAP                    B3   0x00100195   0/-/ -/-  Yes\n",
       "89   0x00004052  CDU_CCP_CCI_RETIME_TAP0                  CDU_CCP_CCI_RETIME_TAP                  B3   0x00100197   0/-/ -/-  Yes\n",
       "90   0x00004053  CDU_SRAMLPIO_TAP0                        CDU_SRAMLPIO_TAP                        B3   0x02101719   0/-/ -/-  Yes\n",
       "91   0x00004054  PSMI_TAP0                                PSMI_TAP                                B3   0x00100CB9   0/-/ -/-  Yes\n",
       "92   0x00004055  CDU_SRAMLPIO_SCAN_TAP0                   CDU_SRAMLPIO_SCAN_TAP                   B3   0x00100C8F   0/-/ -/-  Yes\n",
       "93   0x00004056  CDU_SRAMLPIO_RETIME_TAP0                 CDU_SRAMLPIO_RETIME_TAP                 B3   0x00100C93   0/-/ -/-  Yes\n",
       "94   0x00004057  RDU_MID_SCAN_TAP0                        RDU_MID_SCAN_TAP                        B3   0x0010177B   0/-/ -/-  Yes\n",
       "95   0x00004058  RDU_MID_RETIME_TAP0                      RDU_MID_RETIME_TAP                      B3   0x00101739   0/-/ -/-  Yes\n",
       "96   0x00004059  RDU_SW_TAP0                              RDU_SW_TAP                              B3   0x02100015   0/-/ -/-  Yes\n",
       "97   0x0000405A  CDU_CSE_TAP0                             CDU_CSE_TAP                             B3   0x02100A11   0/-/ -/-  Yes\n",
       "98   0x0000405B  CDU_CSE_SCAN_TAP0                        CDU_CSE_SCAN_TAP                        B3   0x001008D1   0/-/ -/-  Yes\n",
       "99   0x0000405C  CDU_CSE_RETIME_TAP0                      CDU_CSE_RETIME_TAP                      B3   0x0010085D   0/-/ -/-  Yes\n",
       "100  0x0000405D  CDU_PMCILB_TAP0                          CDU_PMCILB_TAP                          B3   0x02100A09   0/-/ -/-  Yes\n",
       "101  0x0000405E  PMC_TAP0                                 PMC_TAP                                 B3   0x00100451   0/-/ -/-  Yes\n",
       "102  0x0000405F  RTC_TAP0                                 RTC_TAP                                 B3   0x01600403   0/-/ -/-  Yes\n",
       "103  0x00004060  CDU_PMCILB_SCAN_TAP0                     CDU_PMCILB_SCAN_TAP                     B3   0x00100455   0/-/ -/-  Yes\n",
       "104  0x00004061  CDU_PMCILB_RETIME_TAP0                   CDU_PMCILB_RETIME_TAP                   B3   0x00100457   0/-/ -/-  Yes\n",
       "105  0x00004062  CDU_PSF4_TAP0                            CDU_PSF4_TAP                            B3   0x02100A0B   0/-/ -/-  Yes\n",
       "106  0x00004063  CDU_PSF4_SCAN_TAP0                       CDU_PSF4_SCAN_TAP                       B3   0x00100545   0/-/ -/-  Yes\n",
       "107  0x00004064  CDU_PSF4_RETIME_TAP0                     CDU_PSF4_RETIME_TAP                     B3   0x00100547   0/-/ -/-  Yes\n",
       "108  0x00004065  CDU_GPIOSW_TAP0                          CDU_GPIOSW_TAP                          B3   0x02100A07   0/-/ -/-  Yes\n",
       "109  0x00004066  GPIOSW_TAP0                              GPIOSW_TAP                              B3   0x001003C1   0/-/ -/-  Yes\n",
       "110  0x00004067  CDU_GPIOSW_SCAN_TAP0                     CDU_GPIOSW_SCAN_TAP                     B3   0x0010035F   0/-/ -/-  Yes\n",
       "111  0x00004068  CDU_GPIOSW_RETIME_TAP0                   CDU_GPIOSW_RETIME_TAP                   B3   0x00100361   0/-/ -/-  Yes\n",
       "112  0x00004069  CDU_FUSE_TAP0                            CDU_FUSE_TAP                            B3   0x02100A1B   0/-/ -/-  Yes\n",
       "113  0x0000406A  FUSE_TAP0                                FUSE_TAP                                B3   0x00100D61   0/-/ -/-  Yes\n",
       "114  0x0000406B  CDU_FUSE_SCAN_TAP0                       CDU_FUSE_SCAN_TAP                       B3   0x00100D63   0/-/ -/-  Yes\n",
       "115  0x0000406C  CDU_FUSE_RETIME_TAP0                     CDU_FUSE_RETIME_TAP                     B3   0x00100D65   0/-/ -/-  Yes\n",
       "116  0x0000406D  CDU_AVS_TAP0                             CDU_AVS_TAP                             B3   0x02100A2F   0/-/ -/-  Yes\n",
       "117  0x0000406E  AVS_HDAS_TAP0                            AVS_HDAS_TAP                            B3   0x0010173D   0/-/ -/-  Yes\n",
       "118  0x0000406F  CDU_AVS_SCAN_TAP0                        CDU_AVS_SCAN_TAP                        B3   0x0010174D   0/-/ -/-  Yes\n",
       "119  0x00004070  CDU_AVS_RETIME_TAP0                      CDU_AVS_RETIME_TAP                      B3   0x0010174F   0/-/ -/-  Yes\n",
       "120  0x00004071  CDU_SCC_TAP0                             CDU_SCC_TAP                             B3   0x02100A19   0/-/ -/-  Yes\n",
       "121  0x00004072  CDU_SCC_SCAN_TAP0                        CDU_SCC_SCAN_TAP                        B3   0x00100C6B   0/-/ -/-  Yes\n",
       "122  0x00004073  CDU_SCC_RETIME_TAP0                      CDU_SCC_RETIME_TAP                      B3   0x00100C6D   0/-/ -/-  Yes\n",
       "123  0x00004074  CDU_AVSX_TAP0                            CDU_AVSX_TAP                            B3   0x02100A0F   0/-/ -/-  Yes\n",
       "124  0x00004075  CDU_AVSX_SCAN_TAP0                       CDU_AVSX_SCAN_TAP                       B3   0x00100765   0/-/ -/-  Yes\n",
       "125  0x00004076  CDU_AVSX_RETIME_TAP0                     CDU_AVSX_RETIME_TAP                     B3   0x00100767   0/-/ -/-  Yes\n",
       "126  0x00004077  CDU_GPIOW_TAP0                           CDU_GPIOW_TAP                           B3   0x02100A03   0/-/ -/-  Yes\n",
       "127  0x00004078  GPIOW_TAP0                               GPIOW_TAP                               B3   0x00100199   0/-/ -/-  Yes\n",
       "128  0x00004079  CDU_GPIOW_SCAN_TAP0                      CDU_GPIOW_SCAN_TAP                      B3   0x00100169   0/-/ -/-  Yes\n",
       "129  0x0000407A  CDU_GPIOW_RETIME_TAP0                    CDU_GPIOW_RETIME_TAP                    B3   0x00100187   0/-/ -/-  Yes\n",
       "130  0x0000407B  CDU_ISH_TAP0                             CDU_ISH_TAP                             B3   0x02100A3B   0/-/ -/-  Yes\n",
       "131  0x0000407C  ISH_TAP0                                 ISH_TAP                                 B3   0x00101D91   0/-/ -/-  Yes\n",
       "132  0x0000407D  CDU_ISH_SCAN_TAP0                        CDU_ISH_SCAN_TAP                        B3   0x00101D55   0/-/ -/-  Yes\n",
       "133  0x0000407E  CDU_ISH_RETIME_TAP0                      CDU_ISH_RETIME_TAP                      B3   0x00101D9F   0/-/ -/-  Yes\n",
       "134  0x0000407F  CDU_GPIONW_TAP0                          CDU_GPIONW_TAP                          B3   0x02100A1F   0/-/ -/-  Yes\n",
       "135  0x00004080  GPIONW_TAP0                              GPIONW_TAP                              B3   0x00100F9D   0/-/ -/-  Yes\n",
       "136  0x00004081  CDU_GPION_TAP0                           CDU_GPION_TAP                           B3   0x02100F23   0/-/ -/-  Yes\n",
       "137  0x00004082  GPION_TAP0                               GPION_TAP                               B3   0x0010114B   0/-/ -/-  Yes\n",
       "138  0x00004083  CDU_ICLK_TAP0                            CDU_ICLK_TAP                            B3   0x0210111D   0/-/ -/-  Yes\n",
       "139  0x00004084  ICLK_TAP0                                ICLK_TAP                                B3   0x00100ED7   0/-/ -/-  Yes\n",
       "140  0x00004085  PCLKD_TAP0                               PCLKD_TAP                               B3   0x00100E03   0/-/ -/-  Yes\n",
       "141  0x00004086  CDU_ICLK_SCAN_TAP0                       CDU_ICLK_SCAN_TAP                       B3   0x00100E17   0/-/ -/-  Yes\n",
       "142  0x00004087  CDU_ICLK_RETIME_TAP0                     CDU_ICLK_RETIME_TAP                     B3   0x00100E63   0/-/ -/-  Yes\n",
       "143  0x00004088  CDU_GPION_SCAN_TAP0                      CDU_GPION_SCAN_TAP                      B3   0x001011BD   0/-/ -/-  Yes\n",
       "144  0x00004089  CDU_GPION_RETIME_TAP0                    CDU_GPION_RETIME_TAP                    B3   0x0010114F   0/-/ -/-  Yes\n",
       "145  0x0000408A  CDU_GPIONW_SCAN_TAP0                     CDU_GPIONW_SCAN_TAP                     B3   0x00100FA1   0/-/ -/-  Yes\n",
       "146  0x0000408B  CDU_GPIONW_RETIME_TAP0                   CDU_GPIONW_RETIME_TAP                   B3   0x00100FB3   0/-/ -/-  Yes\n",
       "147  0x0000408C  CDU_GT_TAP0                              CDU_GT_TAP                              B3   0x02100A01   0/-/ -/-  Yes\n",
       "148  0x0000408D  GT_BUTTRESS_TAP0                         GT_BUTTRESS_TAP                         B3   0x00632047   0/-/ -/-  Yes\n",
       "149  0x0000408E  GT_TAP0                                  GT_TAP                                  B3   0x02100009   0/-/ -/-  Yes\n",
       "150  0x0000408F  GT_RETIME_TAP0                           GT_RETIME_TAP                           B3   0x0063246D   0/-/ -/-  Yes\n",
       "151  0x00004090  CDU_GT_RETIME_TAP0                       CDU_GT_RETIME_TAP                       B3   0x00100077   0/-/ -/-  Yes\n",
       "152  0x00004091  CDU_GT2PLL_TAP0                          CDU_GT2PLL_TAP                          B3   0x02100A0D   0/-/ -/-  Yes\n",
       "153  0x00004092  CDU_GT2PLL_SCAN_TAP0                     CDU_GT2PLL_SCAN_TAP                     B3   0x00100627   0/-/ -/-  Yes\n",
       "154  0x00004093  CDU_GT2PLL_RETIME_TAP0                   CDU_GT2PLL_RETIME_TAP                   B3   0x001006D5   0/-/ -/-  Yes\n",
       "155  0x00004094  RDU_SW_SCAN_TAP0                         RDU_SW_SCAN_TAP                         B3   0x00100A27   0/-/ -/-  Yes\n",
       "156  0x00004095  RDU_SW_RETIME_TAP0                       RDU_SW_RETIME_TAP                       B3   0x00100A45   0/-/ -/-  Yes\n",
       "157  0x00004096  RDU_IUNIT_TAP0                           RDU_IUNIT_TAP                           B3   0x02CDA03D   0/-/ -/-  Yes\n",
       "158  0x00004097  RDU_IUNIT_SCAN_TAP0                      RDU_IUNIT_SCAN_TAP                      B3   0x00CDBE01   0/-/ -/-  Yes\n",
       "159  0x00004098  CDU_BUTRESS_TAP0                         CDU_BUTRESS_TAP                         B3   0x02CDBE05   0/-/ -/-  Yes\n",
       "160  0x00004099  BUTRESS_VDM_TAP_CORE0                    BUTRESS_VDM_TAP_CORE                    B3   0x00CDA201   0/-/ -/-  Yes\n",
       "161  0x0000409A  CDU_BUTRESS_TAP_EMPTY_SLOT_10            CDU_BUTRESS_TAP_EMPTY_SLOT_1            B3   0x00000000   0/-/ -/-  Yes\n",
       "162  0x0000409B  CDU_BUTRESS_TAP_EMPTY_SLOT_00            CDU_BUTRESS_TAP_EMPTY_SLOT_0            B3   0x00000000   0/-/ -/-  Yes\n",
       "163  0x0000409C  CDU_BUTRESS_SCAN_TAP0                    CDU_BUTRESS_SCAN_TAP                    B3   0x00CDA207   0/-/ -/-  Yes\n",
       "164  0x0000409D  CDU_BUTRESS_TDO_RETIME_TAP0              CDU_BUTRESS_TDO_RETIME_TAP              B3   0x00CDA209   0/-/ -/-  Yes\n",
       "165  0x0000409E  CDU_UNIS_TAP0                            CDU_UNIS_TAP                            B3   0x02CDBE07   0/-/ -/-  Yes\n",
       "166  0x0000409F  UNIS_VDM_TAP_CORE0                       UNIS_VDM_TAP_CORE                       B3   0x00CDA301   0/-/ -/-  Yes\n",
       "167  0x000040A0  CDU_UNIS_TAP_EMPTY_SLOT_10               CDU_UNIS_TAP_EMPTY_SLOT_1               B3   0x00000000   0/-/ -/-  Yes\n",
       "168  0x000040A1  CDU_UNIS_TAP_EMPTY_SLOT_00               CDU_UNIS_TAP_EMPTY_SLOT_0               B3   0x00000000   0/-/ -/-  Yes\n",
       "169  0x000040A2  CDU_UNIS_SCAN_TAP0                       CDU_UNIS_SCAN_TAP                       B3   0x00CDA307   0/-/ -/-  Yes\n",
       "170  0x000040A3  CDU_UNIS_TDO_RETIME_TAP0                 CDU_UNIS_TDO_RETIME_TAP                 B3   0x00CDA309   0/-/ -/-  Yes\n",
       "171  0x000040A4  CDU_INPUT_SLC_UNIT_IS_TAP0               CDU_INPUT_SLC_UNIT_IS_TAP               B3   0x02CDBE09   0/-/ -/-  Yes\n",
       "172  0x000040A5  CDU_INPUT_SLC_UNIT_IS_TAP_EMPTY_SLOT_20  CDU_INPUT_SLC_UNIT_IS_TAP_EMPTY_SLOT_2  B3   0x00000000   0/-/ -/-  Yes\n",
       "173  0x000040A6  CDU_INPUT_SLC_UNIT_IS_TAP_EMPTY_SLOT_10  CDU_INPUT_SLC_UNIT_IS_TAP_EMPTY_SLOT_1  B3   0x00000000   0/-/ -/-  Yes\n",
       "174  0x000040A7  CDU_INPUT_SLC_UNIT_IS_TAP_EMPTY_SLOT_00  CDU_INPUT_SLC_UNIT_IS_TAP_EMPTY_SLOT_0  B3   0x00000000   0/-/ -/-  Yes\n",
       "175  0x000040A8  CDU_INPUT_SLC_UNIT_IS_SCAN_TAP0          CDU_INPUT_SLC_UNIT_IS_SCAN_TAP          B3   0x00CDA407   0/-/ -/-  Yes\n",
       "176  0x000040A9  CDU_INPUT_SLC_UNIT_IS_TDO_RETIME_TAP0    CDU_INPUT_SLC_UNIT_IS_TDO_RETIME_TAP    B3   0x00CDA409   0/-/ -/-  Yes\n",
       "177  0x000040AA  CDU_IO_PAR_TAP0                          CDU_IO_PAR_TAP                          B3   0x02CDBE0B   0/-/ -/-  Yes\n",
       "178  0x000040AB  IO_VDM_TAP_CORE0                         IO_VDM_TAP_CORE                         B3   0x00CDA505   0/-/ -/-  Yes\n",
       "179  0x000040AC  CDU_IO_PAR_SCAN_TAP0                     CDU_IO_PAR_SCAN_TAP                     B3   0x00CDA507   0/-/ -/-  Yes\n",
       "180  0x000040AD  CDU_IO_PAR_TDO_RETIME_TAP0               CDU_IO_PAR_TDO_RETIME_TAP               B3   0x00CDA509   0/-/ -/-  Yes\n",
       "181  0x000040AE  CDU_UNPS_TAP0                            CDU_UNPS_TAP                            B3   0x02CDBE0D   0/-/ -/-  Yes\n",
       "182  0x000040AF  UNPS_VDM_TAP_CORE0                       UNPS_VDM_TAP_CORE                       B3   0x00CDA601   0/-/ -/-  Yes\n",
       "183  0x000040B0  CDU_UNPS_TAP_EMPTY_SLOT_10               CDU_UNPS_TAP_EMPTY_SLOT_1               B3   0x00000000   0/-/ -/-  Yes\n",
       "184  0x000040B1  CDU_UNPS_TAP_EMPTY_SLOT_00               CDU_UNPS_TAP_EMPTY_SLOT_0               B3   0x00000000   0/-/ -/-  Yes\n",
       "185  0x000040B2  CDU_UNPS_SCAN_TAP0                       CDU_UNPS_SCAN_TAP                       B3   0x00CDA607   0/-/ -/-  Yes\n",
       "186  0x000040B3  CDU_UNPS_TDO_RETIME_TAP0                 CDU_UNPS_TDO_RETIME_TAP                 B3   0x00CDA609   0/-/ -/-  Yes\n",
       "187  0x000040B4  CDU_DMA_TAP0                             CDU_DMA_TAP                             B3   0x02CDBE0F   0/-/ -/-  Yes\n",
       "188  0x000040B5  CDU_DMA_TAP_EMPTY_SLOT_20                CDU_DMA_TAP_EMPTY_SLOT_2                B3   0x00000000   0/-/ -/-  Yes\n",
       "189  0x000040B6  CDU_DMA_TAP_EMPTY_SLOT_10                CDU_DMA_TAP_EMPTY_SLOT_1                B3   0x00000000   0/-/ -/-  Yes\n",
       "190  0x000040B7  CDU_DMA_TAP_EMPTY_SLOT_00                CDU_DMA_TAP_EMPTY_SLOT_0                B3   0x00000000   0/-/ -/-  Yes\n",
       "191  0x000040B8  CDU_DMA_SCAN_TAP0                        CDU_DMA_SCAN_TAP                        B3   0x00CDA707   0/-/ -/-  Yes\n",
       "192  0x000040B9  CDU_DMA_TDO_RETIME_TAP0                  CDU_DMA_TDO_RETIME_TAP                  B3   0x00CDA709   0/-/ -/-  Yes\n",
       "193  0x000040BA  CDU_OFS_GDC_TAP0                         CDU_OFS_GDC_TAP                         B3   0x02CDBE11   0/-/ -/-  Yes\n",
       "194  0x000040BB  CDU_OFS_GDC_TAP_EMPTY_SLOT_20            CDU_OFS_GDC_TAP_EMPTY_SLOT_2            B3   0x00000000   0/-/ -/-  Yes\n",
       "195  0x000040BC  CDU_OFS_GDC_TAP_EMPTY_SLOT_10            CDU_OFS_GDC_TAP_EMPTY_SLOT_1            B3   0x00000000   0/-/ -/-  Yes\n",
       "196  0x000040BD  CDU_OFS_GDC_TAP_EMPTY_SLOT_00            CDU_OFS_GDC_TAP_EMPTY_SLOT_0            B3   0x00000000   0/-/ -/-  Yes\n",
       "197  0x000040BE  CDU_OFS_GDC_SCAN_TAP0                    CDU_OFS_GDC_SCAN_TAP                    B3   0x00CDA807   0/-/ -/-  Yes\n",
       "198  0x000040BF  CDU_OFS_GDC_TDO_RETIME_TAP0              CDU_OFS_GDC_TDO_RETIME_TAP              B3   0x00CDA809   0/-/ -/-  Yes\n",
       "199  0x000040C0  CDU_SP_TAP0                              CDU_SP_TAP                              B3   0x02CDBE13   0/-/ -/-  Yes\n",
       "200  0x000040C1  CDU_SP_TAP_EMPTY_SLOT_20                 CDU_SP_TAP_EMPTY_SLOT_2                 B3   0x00000000   0/-/ -/-  Yes\n",
       "201  0x000040C2  CDU_SP_TAP_EMPTY_SLOT_10                 CDU_SP_TAP_EMPTY_SLOT_1                 B3   0x00000000   0/-/ -/-  Yes\n",
       "202  0x000040C3  CDU_SP_TAP_EMPTY_SLOT_00                 CDU_SP_TAP_EMPTY_SLOT_0                 B3   0x00000000   0/-/ -/-  Yes\n",
       "203  0x000040C4  CDU_SP_SCAN_TAP0                         CDU_SP_SCAN_TAP                         B3   0x00CDA907   0/-/ -/-  Yes\n",
       "204  0x000040C5  CDU_SP_TDO_RETIME_TAP0                   CDU_SP_TDO_RETIME_TAP                   B3   0x00CDA909   0/-/ -/-  Yes\n",
       "205  0x000040C6  CDU_PSA_TAP0                             CDU_PSA_TAP                             B3   0x02CDBE15   0/-/ -/-  Yes\n",
       "206  0x000040C7  CDU_PSA_TAP_EMPTY_SLOT_20                CDU_PSA_TAP_EMPTY_SLOT_2                B3   0x00000000   0/-/ -/-  Yes\n",
       "207  0x000040C8  CDU_PSA_TAP_EMPTY_SLOT_10                CDU_PSA_TAP_EMPTY_SLOT_1                B3   0x00000000   0/-/ -/-  Yes\n",
       "208  0x000040C9  CDU_PSA_TAP_EMPTY_SLOT_00                CDU_PSA_TAP_EMPTY_SLOT_0                B3   0x00000000   0/-/ -/-  Yes\n",
       "209  0x000040CA  CDU_PSA_SCAN_TAP0                        CDU_PSA_SCAN_TAP                        B3   0x00CDAA07   0/-/ -/-  Yes\n",
       "210  0x000040CB  CDU_PSA_TDO_RETIME_TAP0                  CDU_PSA_TDO_RETIME_TAP                  B3   0x00CDAA09   0/-/ -/-  Yes\n",
       "211  0x000040CC  CDU_INPUT_SLC_UNIT_PS_TAP0               CDU_INPUT_SLC_UNIT_PS_TAP               B3   0x02CDBE17   0/-/ -/-  Yes\n",
       "212  0x000040CD  CDU_INPUT_SLC_UNIT_PS_TAP_EMPTY_SLOT_20  CDU_INPUT_SLC_UNIT_PS_TAP_EMPTY_SLOT_2  B3   0x00000000   0/-/ -/-  Yes\n",
       "213  0x000040CE  CDU_INPUT_SLC_UNIT_PS_TAP_EMPTY_SLOT_10  CDU_INPUT_SLC_UNIT_PS_TAP_EMPTY_SLOT_1  B3   0x00000000   0/-/ -/-  Yes\n",
       "214  0x000040CF  CDU_INPUT_SLC_UNIT_PS_TAP_EMPTY_SLOT_00  CDU_INPUT_SLC_UNIT_PS_TAP_EMPTY_SLOT_0  B3   0x00000000   0/-/ -/-  Yes\n",
       "215  0x000040D0  CDU_INPUT_SLC_UNIT_PS_SCAN_TAP0          CDU_INPUT_SLC_UNIT_PS_SCAN_TAP          B3   0x00CDAB07   0/-/ -/-  Yes\n",
       "216  0x000040D1  CDU_INPUT_SLC_UNIT_PS_TDO_RETIME_TAP0    CDU_INPUT_SLC_UNIT_PS_TDO_RETIME_TAP    B3   0x00CDAB09   0/-/ -/-  Yes\n",
       "217  0x000040D2  CDU_ISP0_TAP0                            CDU_ISP0_TAP                            B3   0x02CDBE19   0/-/ -/-  Yes\n",
       "218  0x000040D3  CDU_ISP0_TAP_EMPTY_SLOT_20               CDU_ISP0_TAP_EMPTY_SLOT_2               B3   0x00000000   0/-/ -/-  Yes\n",
       "219  0x000040D4  CDU_ISP0_TAP_EMPTY_SLOT_10               CDU_ISP0_TAP_EMPTY_SLOT_1               B3   0x00000000   0/-/ -/-  Yes\n",
       "220  0x000040D5  CDU_ISP0_TAP_EMPTY_SLOT_00               CDU_ISP0_TAP_EMPTY_SLOT_0               B3   0x00000000   0/-/ -/-  Yes\n",
       "221  0x000040D6  CDU_ISP0_SCAN_TAP0                       CDU_ISP0_SCAN_TAP                       B3   0x00CDAC07   0/-/ -/-  Yes\n",
       "222  0x000040D7  CDU_ISP0_TDO_RETIME_TAP0                 CDU_ISP0_TDO_RETIME_TAP                 B3   0x00CDAC09   0/-/ -/-  Yes\n",
       "223  0x000040D8  CDU_ISP1_TAP0                            CDU_ISP1_TAP                            B3   0x02CDBE1B   0/-/ -/-  Yes\n",
       "224  0x000040D9  CDU_ISP1_TAP_EMPTY_SLOT_20               CDU_ISP1_TAP_EMPTY_SLOT_2               B3   0x00000000   0/-/ -/-  Yes\n",
       "225  0x000040DA  CDU_ISP1_TAP_EMPTY_SLOT_10               CDU_ISP1_TAP_EMPTY_SLOT_1               B3   0x00000000   0/-/ -/-  Yes\n",
       "226  0x000040DB  CDU_ISP1_TAP_EMPTY_SLOT_00               CDU_ISP1_TAP_EMPTY_SLOT_0               B3   0x00000000   0/-/ -/-  Yes\n",
       "227  0x000040DC  CDU_ISP1_SCAN_TAP0                       CDU_ISP1_SCAN_TAP                       B3   0x00CDAD07   0/-/ -/-  Yes\n",
       "228  0x000040DD  CDU_ISP1_TDO_RETIME_TAP0                 CDU_ISP1_TDO_RETIME_TAP                 B3   0x00CDAD09   0/-/ -/-  Yes\n",
       "229  0x000040DE  CDU_ISP2_TAP0                            CDU_ISP2_TAP                            B3   0x02CDBE1D   0/-/ -/-  Yes\n",
       "230  0x000040DF  CDU_ISP2_TAP_EMPTY_SLOT_20               CDU_ISP2_TAP_EMPTY_SLOT_2               B3   0x00000000   0/-/ -/-  Yes\n",
       "231  0x000040E0  CDU_ISP2_TAP_EMPTY_SLOT_10               CDU_ISP2_TAP_EMPTY_SLOT_1               B3   0x00000000   0/-/ -/-  Yes\n",
       "232  0x000040E1  CDU_ISP2_TAP_EMPTY_SLOT_00               CDU_ISP2_TAP_EMPTY_SLOT_0               B3   0x00000000   0/-/ -/-  Yes\n",
       "233  0x000040E2  CDU_ISP2_SCAN_TAP0                       CDU_ISP2_SCAN_TAP                       B3   0x00CDAE07   0/-/ -/-  Yes\n",
       "234  0x000040E3  CDU_ISP2_TDO_RETIME_TAP0                 CDU_ISP2_TDO_RETIME_TAP                 B3   0x00CDAE09   0/-/ -/-  Yes\n",
       "235  0x000040E4  CDU_ISP3_TAP0                            CDU_ISP3_TAP                            B3   0x02CDBE1F   0/-/ -/-  Yes\n",
       "236  0x000040E5  CDU_ISP3_TAP_EMPTY_SLOT_20               CDU_ISP3_TAP_EMPTY_SLOT_2               B3   0x00000000   0/-/ -/-  Yes\n",
       "237  0x000040E6  CDU_ISP3_TAP_EMPTY_SLOT_10               CDU_ISP3_TAP_EMPTY_SLOT_1               B3   0x00000000   0/-/ -/-  Yes\n",
       "238  0x000040E7  CDU_ISP3_TAP_EMPTY_SLOT_00               CDU_ISP3_TAP_EMPTY_SLOT_0               B3   0x00000000   0/-/ -/-  Yes\n",
       "239  0x000040E8  CDU_ISP3_SCAN_TAP0                       CDU_ISP3_SCAN_TAP                       B3   0x00CDAF07   0/-/ -/-  Yes\n",
       "240  0x000040E9  CDU_ISP3_TDO_RETIME_TAP0                 CDU_ISP3_TDO_RETIME_TAP                 B3   0x00CDAF09   0/-/ -/-  Yes\n",
       "241  0x000040EA  RDU_IUNIT_RETIME_TAP0                    RDU_IUNIT_RETIME_TAP                    B3   0x00CDBE21   0/-/ -/-  Yes\n",
       "242  0x000040EB  TAP2IOSF_TAP0                            TAP2IOSFSB                              A0   0x0010003F   0/-/ -/-  Yes\n",
       "243  0x000040EC  IDV_CTRL_TAP0                            IDV_CTRL_TAP                            B3   0x0010006F   0/-/ -/-  Yes\n",
       "244  0x000040ED  MDU_DFX_AGG_TAP0                         MDU_DFX_AGG_TAP                         B3   0x00100031   0/-/ -/-  Yes\n",
       "245  0x000040EE  MDU_RETIME_TAP0                          MDU_RETIME_TAP                          B3   0x00100043   0/-/ -/-  Yes\n",
       "246  0x00010000  GroupDomain                              LogicalGroupDomain                                        -/-/ -/-  Yes\n",
       "247  0x00010001  GPC                                      LogicalGroupCore                                          -/-/ -/-  Yes\n",
       "248  0x00011000  DebugPort0                               Debugport                                                 -/-/ -/-  Yes\n",
       "249  0x00014000  DCI_USB_DFX                              InterfacePort                                             -/-/ -/-  Yes\n",
       "250  0x00014001  DCI_RAW                                  InterfacePort                                             -/-/ -/-  Yes\n",
       "251  0x00014002  DCI_PACKETS                              InterfacePort                                             -/-/ -/-  Yes\n",
       "252  0x00012000  JtagScanChain0                           JTAGScanChain                                             -/-/ -/-  Yes\n",
       "253  0x00012001  JtagScanChain1                           JTAGScanChain                                             -/-/ -/-  Yes\n",
       "254  0x00016000  PinsInterface0                           PinsInterface                                             -/-/ -/-  Yes\n",
       "255  0x00014003  DCI_USB_DMA                              InterfacePort                                             -/-/ -/-  Yes\n",
       "256  0x00014004  DCI_USB_TRACE                            InterfacePort                                             -/-/ -/-  Yes"
      ]
     },
     "execution_count": 16,
     "metadata": {},
     "output_type": "execute_result"
    }
   ],
   "source": [
    "# List the known TAP devices; the devices primarily hold information about the silicon or portion of silicon it is representing\n",
    "\n",
    "itp.devicelist"
   ]
  },
  {
   "cell_type": "code",
   "execution_count": 17,
   "metadata": {},
   "outputs": [
    {
     "name": "stdout",
     "output_type": "stream",
     "text": [
      "Status for       : GLM_C0_T0\n",
      "  Processor      : Halted\n",
      "  Processor mode : Unknown\n",
      "Status for       : GLM_C2_T0\n",
      "  Processor      : Halted\n",
      "  Processor mode : Unknown\n"
     ]
    }
   ],
   "source": [
    "# Display processor's running state and execution mode\n",
    "itp.threads.thread_status()"
   ]
  },
  {
   "cell_type": "code",
   "execution_count": 19,
   "metadata": {},
   "outputs": [
    {
     "name": "stdout",
     "output_type": "stream",
     "text": [
      "0x38:000000007780a461\n"
     ]
    }
   ],
   "source": [
    "# Display the address of the last known break event for the selected threads specified by the variable tid\n",
    "\n",
    "tid = 1\n",
    "print itp.threads[tid].break_address()"
   ]
  },
  {
   "cell_type": "code",
   "execution_count": 22,
   "metadata": {},
   "outputs": [
    {
     "name": "stdout",
     "output_type": "stream",
     "text": [
      "000000007780a461P: ccccccc3 cccccccc cccccccc 0fcccccc\n",
      "000000007780a471P: 220fd820 ccccc3d8 cccccccc 9bcccccc\n",
      "000000007780a481P: 2dd9e3db 000087f7 48e0200f 0002000d\n",
      "000000007780a491P: e0220f00 e615ae0f c3000087 6acccccc\n",
      "000000007780a4a1P: b8485000 7780a6b1 00000000 016ae0ff\n",
      "000000007780a4b1P: b1b84850 007780a6 ff000000 50026ae0\n",
      "000000007780a4c1P: a6b1b848 00007780 e0ff0000 4850036a\n",
      "000000007780a4d1P: 80a6b1b8 00000077 6ae0ff00 b8485004\n",
      "000000007780a4e1P: 7780a6b1 00000000 056ae0ff b1b84850\n",
      "000000007780a4f1P: 007780a6 ff000000 50066ae0 a6b1b848\n",
      "000000007780a501P: 00007780 e0ff0000 4850076a 80a6b1b8\n",
      "000000007780a511P: 00000077 6ae0ff00 b8485008 7780a6b1\n",
      "000000007780a521P: 00000000 096ae0ff\n"
     ]
    }
   ],
   "source": [
    "# Dump memory contents as specifed below:\n",
    "# tid                --> selected thread\n",
    "# start_addr         --> first address from where to start dump\n",
    "# no_of_words        --> number of words to be read in the dump file\n",
    "# wordsize_in_bytes  --> 1 for 8 bit word\n",
    "#                        2 for 16 bit word\n",
    "#                        4 for 32 bit word \n",
    "#                        8 for 64 bit word \n",
    "\n",
    "tid = 0\n",
    "start_addr = \"0x7780a461P\"\n",
    "no_of_words = 50\n",
    "wordsize_in_bytes = 4\n",
    "\n",
    "itp.threads[tid].memdump(start_addr, no_of_words, wordsize_in_bytes)"
   ]
  },
  {
   "cell_type": "markdown",
   "metadata": {},
   "source": [
    "### Handling Breakpoints"
   ]
  },
  {
   "cell_type": "code",
   "execution_count": null,
   "metadata": {},
   "outputs": [],
   "source": [
    "# Set a breakpoint"
   ]
  },
  {
   "cell_type": "code",
   "execution_count": 24,
   "metadata": {},
   "outputs": [],
   "source": [
    "%%capture\n",
    "itp.brnew(\"0x100P\", \"io\")"
   ]
  },
  {
   "cell_type": "code",
   "execution_count": null,
   "metadata": {},
   "outputs": [],
   "source": [
    "# View breakpoints"
   ]
  },
  {
   "cell_type": "code",
   "execution_count": 25,
   "metadata": {},
   "outputs": [
    {
     "data": {
      "text/plain": [
       "[Breakpoint Name: TCI_BPT_ID#10020000 - Id: 268566528\n",
       "   Address: 0x0000000000000100P - Data Size: 1 - DBReg: 0 - Enabled: True,\n",
       " Breakpoint Name: TCI_BPT_ID#10220000 - Id: 270663680\n",
       "   Address: 0x0000000000000100P - Data Size: 1 - DBReg: 0 - Enabled: True]"
      ]
     },
     "execution_count": 25,
     "metadata": {},
     "output_type": "execute_result"
    }
   ],
   "source": [
    "itp.brget()"
   ]
  },
  {
   "cell_type": "markdown",
   "metadata": {},
   "source": [
    "### Basic Bitwise Operations"
   ]
  },
  {
   "cell_type": "code",
   "execution_count": 26,
   "metadata": {},
   "outputs": [
    {
     "name": "stdout",
     "output_type": "stream",
     "text": [
      "reg1 in hex = 0xAB\n",
      "reg2 in hex = 0xCD\n",
      "reg3 in hex = 0xCDAB\n",
      "reg3 in binary = 0b1100110110101011\n",
      "total_one_bits in reg3= 10\n"
     ]
    }
   ],
   "source": [
    "reg1 = itp.BitData(8, 0xab)\n",
    "reg2 = itp.BitData(8, 0xcd)\n",
    "print \"reg1 in hex = \" +reg1.ToHex()\n",
    "print \"reg2 in hex = \" +reg2.ToHex()\n",
    "\n",
    "# Append reg2 to MSB of reg1\n",
    "\n",
    "reg3 = reg1.Append(reg2)\n",
    "\n",
    "# Display reg3 in hex and binary\n",
    "print \"reg3 in hex = \" +reg3.ToHex()\n",
    "print \"reg3 in binary = \" +reg3.ToBinary()\n",
    "\n",
    "# Count number of 1s in a byte/word\n",
    "total_one_bits = reg3.PopCount()\n",
    "print \"total_one_bits in reg3= %d\"%total_one_bits\n"
   ]
  },
  {
   "cell_type": "markdown",
   "metadata": {},
   "source": [
    "## Launch System Debugger GUI"
   ]
  },
  {
   "cell_type": "code",
   "execution_count": null,
   "metadata": {},
   "outputs": [],
   "source": [
    "%%capture\n",
    "! C:\\IntelSWTools\\system_studio_2018_nda\\iss_ide_eclipse-launcher.bat"
   ]
  },
  {
   "cell_type": "code",
   "execution_count": null,
   "metadata": {},
   "outputs": [],
   "source": []
  }
 ],
 "metadata": {
  "kernelspec": {
   "display_name": "Python 2",
   "language": "python",
   "name": "python2"
  },
  "language_info": {
   "codemirror_mode": {
    "name": "ipython",
    "version": 2
   },
   "file_extension": ".py",
   "mimetype": "text/x-python",
   "name": "python",
   "nbconvert_exporter": "python",
   "pygments_lexer": "ipython2",
   "version": "2.7.15"
  }
 },
 "nbformat": 4,
 "nbformat_minor": 2
}
