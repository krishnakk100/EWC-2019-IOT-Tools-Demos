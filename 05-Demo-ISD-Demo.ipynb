{
 "cells": [
  {
   "cell_type": "markdown",
   "metadata": {},
   "source": [
    "# Intel® System Debugger"
   ]
  },
  {
   "cell_type": "markdown",
   "metadata": {},
   "source": [
    "The System Debug feature of the Intel® System Debugger is a JTAG-based debug solution supporting in-depth debugging and tracing of Intel® Architecture-based System Software and Embedded Applications. It enables developers to debug and trace Intel® Architecture based platforms system-wide, e.g. UEFI / firmware, System-on-Chip peripheral registers, OS kernel and drivers with full OS awareness.\n",
    "\n",
    "The Intel® System Debugger - System Debug provides Windows* hosted cross-debug solutions for software developers to debug UEFI BIOS, the Linux* kernel sources and dynamically loaded drivers and kernel modules on Intel Atom® processor and Intel® Core™ based devices."
   ]
  },
  {
   "cell_type": "markdown",
   "metadata": {},
   "source": [
    "There are two primary ways to establish connection to target- DAL and OpenIPC. We will cover both these approaches in this demo."
   ]
  },
  {
   "cell_type": "markdown",
   "metadata": {},
   "source": [
    "## Using DAL "
   ]
  },
  {
   "cell_type": "markdown",
   "metadata": {},
   "source": [
    "<img src=\"PythonCLI01.PNG\" alt=\"PythonCLI-01\" style=\"width:80%;align: left\"/>"
   ]
  },
  {
   "cell_type": "markdown",
   "metadata": {},
   "source": [
    "The Intel® DFx Abstraction Layer (Intel® DAL) provides a rich source of functionality for debugging target platforms and associated silicon. The Intel DAL abstracts away the target-specific details on how to access the features of interest, such as model-specific registers (MSRs), entering and exiting probe mode, various forms of hardware break detects, and more. The Python* Command Line Interface (Python* CLI) provides access to this functionality in an easy-to-use form while still allowing access to the more advanced features of the Intel DAL"
   ]
  },
  {
   "cell_type": "code",
   "execution_count": null,
   "metadata": {},
   "outputs": [],
   "source": [
    "#Change the directory to Intel's DAL from Intel® System Debugger\n",
    "#Note that the version of DAL installed on the demo machine should match the version given in this cell\n",
    "%cd \"C:/Intel/DAL_1.1831.340.110\""
   ]
  },
  {
   "cell_type": "code",
   "execution_count": null,
   "metadata": {},
   "outputs": [],
   "source": [
    "#Select the right config file based on the target platform\n",
    "! ConfigConsole.exe"
   ]
  },
  {
   "cell_type": "code",
   "execution_count": null,
   "metadata": {},
   "outputs": [],
   "source": [
    "#Establish target connection; wait for a while and observe green lights on the CCA\n",
    "! python itpii/startup.py"
   ]
  },
  {
   "cell_type": "code",
   "execution_count": null,
   "metadata": {},
   "outputs": [],
   "source": [
    "# Call the itpii.baseaccess() command to get an instance of the itpii.ItpII class.\n",
    "import sys, os\n",
    "dalDir = r\"C:/Intel/DAL_1.1831.340.110\"\n",
    "sys.path.insert(0, dalDir)\n",
    "import itpii\n",
    "itp = itpii.baseaccess()"
   ]
  },
  {
   "cell_type": "code",
   "execution_count": null,
   "metadata": {},
   "outputs": [],
   "source": [
    "# Check DAL version\n",
    "\n",
    "itp.cv.version"
   ]
  },
  {
   "cell_type": "markdown",
   "metadata": {},
   "source": [
    "### Enter/Exit Probe Mode"
   ]
  },
  {
   "cell_type": "code",
   "execution_count": null,
   "metadata": {},
   "outputs": [],
   "source": [
    "# Put all the threads into probe mode\n",
    "\n",
    "# Output shows a series of messages which describes how each thread entered probe mode and at what address they \n",
    "# were executing at the time they were halted\n",
    "itp.halt()\n",
    "itp.status()"
   ]
  },
  {
   "cell_type": "code",
   "execution_count": null,
   "metadata": {},
   "outputs": [],
   "source": [
    "# Resume execution of all threads\n",
    "itp.go()\n",
    "itp.status()"
   ]
  },
  {
   "cell_type": "code",
   "execution_count": null,
   "metadata": {},
   "outputs": [],
   "source": [
    "# Show current breakall setting\n",
    "itp.cv.breakall"
   ]
  },
  {
   "cell_type": "code",
   "execution_count": null,
   "metadata": {},
   "outputs": [],
   "source": [
    "# ***********************************************************************************\n",
    "\n",
    "# Use the control variable called 'breakall' to change the behavior of the Intel DAL in regards to what happens to other threads \n",
    "# when a specific thread is told to halt (that is, enter probe mode). \n",
    "\n",
    "# If breakall = \"off\", DAL halts only one specific thread and leaves the other threads running\n",
    "\n",
    "# If breakall = \"global\", DAL halts all threads when one specific thread is halted\n",
    "\n",
    "# Keep any one statement active below, based on the thread halt behavior desired; default value is breakall = \"global\"\n",
    "\n",
    "# ***********************************************************************************\n",
    "\n",
    "# itp.cv.breakall = \"off\"\n",
    "itp.cv.breakall = \"global\""
   ]
  },
  {
   "cell_type": "code",
   "execution_count": null,
   "metadata": {},
   "outputs": [],
   "source": [
    "# Demonstrate the use of breakall- part 1\n",
    "\n",
    "# Below statements halt only the first thread, and the other threads are kept running\n",
    "\n",
    "itp.threads[0].halt()\n",
    "itp.status()"
   ]
  },
  {
   "cell_type": "code",
   "execution_count": null,
   "metadata": {},
   "outputs": [],
   "source": [
    "# Demonstrate the use of breakall- part 2\n",
    "\n",
    "# Below statements resume the first thread which was halted in the previous step; the other threads are not affected\n",
    "\n",
    "itp.threads[0].go()\n",
    "itp.status()"
   ]
  },
  {
   "cell_type": "markdown",
   "metadata": {},
   "source": [
    "### View/Modify Registers"
   ]
  },
  {
   "cell_type": "code",
   "execution_count": 117,
   "metadata": {},
   "outputs": [],
   "source": [
    "# Create aliases for threads\n",
    "t0 = itp.threads[0]\n",
    "t1 = itp.threads[1]\n",
    "t2 = itp.threads[2]\n",
    "t3 = itp.threads[3]"
   ]
  },
  {
   "cell_type": "code",
   "execution_count": 118,
   "metadata": {},
   "outputs": [
    {
     "name": "stdout",
     "output_type": "stream",
     "text": [
      "[64b] 0x0000000089E5D311\n",
      "[64b] 0x0000000000010206\n"
     ]
    }
   ],
   "source": [
    "# View desired registers for debug\n",
    "\n",
    "# Use \"Tab\" key to get a list of registers using the below template:\n",
    "# print t0.state.regs.<tab>\n",
    "\n",
    "print t0.state.regs.rip\n",
    "print t0.state.regs.rflags"
   ]
  },
  {
   "cell_type": "code",
   "execution_count": 119,
   "metadata": {},
   "outputs": [],
   "source": [
    "# Save rflags value\n",
    "\n",
    "savedRflags = t0.state.regs.rflags.value"
   ]
  },
  {
   "cell_type": "code",
   "execution_count": 120,
   "metadata": {},
   "outputs": [
    {
     "name": "stdout",
     "output_type": "stream",
     "text": [
      "Updated rflags value:\n",
      "[64b] 0x0000000FFFFFFFFF\n",
      "\n",
      "\n",
      "Expanded view of rflags:\n"
     ]
    },
    {
     "data": {
      "text/plain": [
       "rflags(63:0) = 0x0000000FFFFFFFFF\n",
       "  eflags(31:0) = 0xFFFFFFFF\n",
       "    flags(15:0) = 0xFFFF\n",
       "    cf = 0x1\n",
       "    pf = 0x1\n",
       "    af = 0x1\n",
       "    zf = 0x1\n",
       "    sf = 0x1\n",
       "    tf = 0x1\n",
       "    ifl = 0x1\n",
       "    df = 0x1\n",
       "    of = 0x1\n",
       "    iopl(1:0) = 0x3\n",
       "    nt = 0x1\n",
       "    rf = 0x1\n",
       "    vm = 0x1\n",
       "    ac = 0x1\n",
       "    vif = 0x1\n",
       "    vip = 0x1\n",
       "    id = 0x1"
      ]
     },
     "execution_count": 120,
     "metadata": {},
     "output_type": "execute_result"
    }
   ],
   "source": [
    "# Update rflags value to all 1s (0xfffffffff)\n",
    "\n",
    "t0.state.regs.rflags = 0xfffffffff\n",
    "print \"Updated rflags value:\\n%s\"%t0.state.regs.rflags\n",
    "\n",
    "print \"\\n\\nExpanded view of rflags:\"\n",
    "t0.state.regs.rflags"
   ]
  },
  {
   "cell_type": "code",
   "execution_count": 121,
   "metadata": {},
   "outputs": [
    {
     "name": "stdout",
     "output_type": "stream",
     "text": [
      "Restored flags value is:\n",
      "[64b] 0x0000000000010206\n",
      "\n",
      "\n",
      "Expanded view of rflags:\n"
     ]
    },
    {
     "data": {
      "text/plain": [
       "rflags(63:0) = 0x0000000000010206\n",
       "  eflags(31:0) = 0x00010206\n",
       "    flags(15:0) = 0x0206\n",
       "    cf = 0x0\n",
       "    pf = 0x1\n",
       "    af = 0x0\n",
       "    zf = 0x0\n",
       "    sf = 0x0\n",
       "    tf = 0x0\n",
       "    ifl = 0x1\n",
       "    df = 0x0\n",
       "    of = 0x0\n",
       "    iopl(1:0) = 0x0\n",
       "    nt = 0x0\n",
       "    rf = 0x1\n",
       "    vm = 0x0\n",
       "    ac = 0x0\n",
       "    vif = 0x0\n",
       "    vip = 0x0\n",
       "    id = 0x0"
      ]
     },
     "execution_count": 121,
     "metadata": {},
     "output_type": "execute_result"
    }
   ],
   "source": [
    "# Restore rflags value\n",
    "\n",
    "t0.state.regs.rflags = savedRflags\n",
    "print \"Restored flags value is:\\n%s\"%t0.state.regs.rflags\n",
    "\n",
    "print \"\\n\\nExpanded view of rflags:\"\n",
    "t0.state.regs.rflags"
   ]
  },
  {
   "cell_type": "markdown",
   "metadata": {},
   "source": [
    "### Check/Modify Target Status"
   ]
  },
  {
   "cell_type": "code",
   "execution_count": 122,
   "metadata": {},
   "outputs": [
    {
     "data": {
      "text/plain": [
       "True"
      ]
     },
     "execution_count": 122,
     "metadata": {},
     "output_type": "execute_result"
    }
   ],
   "source": [
    "# Check target power status\n",
    "\n",
    "itp.cv.targpower"
   ]
  },
  {
   "cell_type": "code",
   "execution_count": 123,
   "metadata": {},
   "outputs": [
    {
     "data": {
      "text/plain": [
       "use16"
      ]
     },
     "execution_count": 123,
     "metadata": {},
     "output_type": "execute_result"
    }
   ],
   "source": [
    "# Check processor mode\n",
    "\n",
    "t0.cv.asmmode"
   ]
  },
  {
   "cell_type": "code",
   "execution_count": 124,
   "metadata": {},
   "outputs": [
    {
     "data": {
      "text/plain": [
       " DID  DP TP  SC Alias                Type                Step Idcode     BusType  P/D/ C/T  Enabled\n",
       "----------------------------------------------------------------------------------------------------\n",
       "   0  0   0  1  WHL_U_UC0            WHL_U_UC            W0   0xBA76D013 JTAG     0/0/ -/-  Yes\n",
       "   1  0   0  1  WHL_CBO0             WHL_CBO             W0              JTAG     0/0/ -/-  Yes\n",
       "   2  0   0  1  WHL_CBO1             WHL_CBO             W0              JTAG     0/0/ -/-  Yes\n",
       "   3  0   0  1  WHL_CBO2             WHL_CBO             W0              JTAG     0/0/ -/-  Yes\n",
       "   4  0   0  1  WHL_CBO3             WHL_CBO             W0              JTAG     0/0/ -/-  Yes\n",
       "   5  0   0  1  P0                   WHL                 W0              JTAG     0/0/ 0/0  Yes\n",
       "   6  0   0  1  P1                   WHL                 W0              JTAG     0/0/ 0/1  Yes\n",
       "   7  0   0  1  P2                   WHL                 W0              JTAG     0/0/ 1/0  Yes\n",
       "   8  0   0  1  P3                   WHL                 W0              JTAG     0/0/ 1/1  Yes\n",
       "   9  0   0  1  P4                   WHL                 W0              JTAG     0/0/ 2/0  Yes\n",
       "  10  0   0  1  P5                   WHL                 W0              JTAG     0/0/ 2/1  Yes\n",
       "  11  0   0  1  P6                   WHL                 W0              JTAG     0/0/ 3/0  Yes\n",
       "  12  0   0  1  P7                   WHL                 W0              JTAG     0/0/ 3/1  Yes\n",
       "  13  0   0  0  CNP0                 CNP                 D0   0xCE767013 JTAG     0/1/ -/-  Yes\n",
       "  14  0   1  0  CNP_RGNCL0           CNP_RGNCL           D0   0x02080001 JTAG     0/1/ -/-  Yes\n",
       "  15  0   2  0  CNP_RGNBOTTOM0       CNP_RGNBOTTOM       D0   0x0208C003 JTAG     0/1/ -/-  Yes\n",
       "  16  0   3  0  CNP_RGNLEFT0         CNP_RGNLEFT         D0   0x0208C005 JTAG     0/1/ -/-  Yes\n",
       "  17  0   4  0  CNP_PARNPK0          CNP_PARNPK          D0   0x02086203 JTAG     0/1/ -/-  Yes\n",
       "  18  0   5  0  CNP_NPK0             CNP_NPK             D0   0x00086101 JTAG     0/1/ -/-  Yes\n",
       "  19  0   6  0  CNP_PARNPK_RETIME0   CNP_PARNPK_RETIME   D0              JTAG     0/1/ -/-  Yes\n",
       "  20  0   7  0  CNP_PARLEG0          CNP_PARLEG          D0   0x02086207 JTAG     0/1/ -/-  Yes\n",
       "  21  0   8  0  CNP_FUSE0            CNP_FUSE            D0   0x00086305 JTAG     0/1/ -/-  Yes\n",
       "  22  0   9  0  CNP_PARLEG_RETIME0   CNP_PARLEG_RETIME   D0              JTAG     0/1/ -/-  Yes\n",
       "  23  0  10  0  CNP_RGNLEFT_RETIME0  CNP_RGNLEFT_RETIME  D0              JTAG     0/1/ -/-  Yes\n",
       "  24  0  11  0  CNP_RGNRIGHT0        CNP_RGNRIGHT        D0   0x0208C007 JTAG     0/1/ -/-  Yes\n",
       "  25  0  12  0  CNP_RGNTOP0          CNP_RGNTOP          D0   0x0208C009 JTAG     0/1/ -/-  Yes\n",
       "  26  0  13  0  CNP_MASTER0          CNP_MASTER          D0   0x0208A40D JTAG     0/1/ -/-  Yes\n",
       "  27  0  14  0  CNP_TPSB0            CNP_TPSB            D0   0x00082603 JTAG     0/1/ -/-  Yes\n",
       "  28  0  15  0  CNP_SECAGG0          CNP_SECAGG          D0   0x0008260B JTAG     0/1/ -/-  Yes\n",
       "  29  0  16  0  CNP_MASTER_RETIME0   CNP_MASTER_RETIME   D0              JTAG     0/1/ -/-  Yes\n",
       "  30  0  17  0  CNP_RGNTOP_RETIME0   CNP_RGNTOP_RETIME   D0              JTAG     0/1/ -/-  Yes\n",
       "  31  0  18  0  CNP_RGNCL_RETIME0    CNP_RGNCL_RETIME    D0              JTAG     0/1/ -/-  Yes\n",
       "  32  0  19  0  CNP_CLTAP_RETIME0    CNP_CLTAP_RETIME    D0              JTAG     0/1/ -/-  Yes"
      ]
     },
     "execution_count": 124,
     "metadata": {},
     "output_type": "execute_result"
    }
   ],
   "source": [
    "# List the known TAP devices; the devices primarily hold information about the silicon or portion of silicon it is representing\n",
    "\n",
    "itp.devicelist"
   ]
  },
  {
   "cell_type": "code",
   "execution_count": 125,
   "metadata": {},
   "outputs": [
    {
     "name": "stdout",
     "output_type": "stream",
     "text": [
      "Status for       : WHL_C0_T0\n",
      "  Processor      : Halted\n",
      "  Processor mode : Protected, Paged, SixtyFourBit\n",
      "Status for       : WHL_C0_T1\n",
      "  Processor      : Halted\n",
      "  Processor mode : Protected, Paged, SixtyFourBit\n",
      "Status for       : WHL_C1_T0\n",
      "  Processor      : Halted\n",
      "  Processor mode : Protected, Paged, SixtyFourBit\n",
      "Status for       : WHL_C1_T1\n",
      "  Processor      : Halted\n",
      "  Processor mode : Protected, Paged, SixtyFourBit\n",
      "Status for       : WHL_C2_T0\n",
      "  Processor      : Halted\n",
      "  Processor mode : Protected, Paged, SixtyFourBit\n",
      "Status for       : WHL_C2_T1\n",
      "  Processor      : Halted\n",
      "  Processor mode : Protected, Paged, SixtyFourBit\n",
      "Status for       : WHL_C3_T0\n",
      "  Processor      : Halted\n",
      "  Processor mode : Protected, Paged, SixtyFourBit\n",
      "Status for       : WHL_C3_T1\n",
      "  Processor      : Halted\n",
      "  Processor mode : Protected, Paged, SixtyFourBit\n",
      "\n"
     ]
    }
   ],
   "source": [
    "# Display processor's running state and execution mode\n",
    "\n",
    "itp.status()"
   ]
  },
  {
   "cell_type": "code",
   "execution_count": 134,
   "metadata": {},
   "outputs": [
    {
     "name": "stdout",
     "output_type": "stream",
     "text": [
      "Status of recent break event for thread[2]:\n"
     ]
    },
    {
     "data": {
      "text/plain": [
       "MWAIT C1 break at 0x38:0000000089E5DDF7"
      ]
     },
     "execution_count": 134,
     "metadata": {},
     "output_type": "execute_result"
    }
   ],
   "source": [
    "# Display the cause and address of the recent break event for the selected threads specified by the variable tid\n",
    "\n",
    "tid = 2\n",
    "\n",
    "print \"Status of recent break event for thread[%d]:\"%tid\n",
    "itp.threads[tid].cv.cause\n",
    "\n"
   ]
  },
  {
   "cell_type": "code",
   "execution_count": 135,
   "metadata": {},
   "outputs": [
    {
     "name": "stdout",
     "output_type": "stream",
     "text": [
      "0x38:0000000089E5D311  c3                                ret\n",
      "0x38:0000000089E5D312  cc                                int3\n",
      "0x38:0000000089E5D313  cc                                int3\n",
      "0x38:0000000089E5D314  cc                                int3\n",
      "0x38:0000000089E5D315  cc                                int3\n",
      "0x38:0000000089E5D316  cc                                int3\n",
      "0x38:0000000089E5D317  cc                                int3\n",
      "0x38:0000000089E5D318  cc                                int3\n",
      "0x38:0000000089E5D319  cc                                int3\n",
      "0x38:0000000089E5D31A  cc                                int3\n",
      "\n"
     ]
    }
   ],
   "source": [
    "# Perform disassembly for the n instructions from the current instruction pointer for the selected threads \n",
    "# specified by the variable tid\n",
    "\n",
    "tid = 0\n",
    "n   = 10\n",
    "itp.threads[tid].asm(\"$\", n)"
   ]
  },
  {
   "cell_type": "code",
   "execution_count": 136,
   "metadata": {},
   "outputs": [
    {
     "name": "stdout",
     "output_type": "stream",
     "text": [
      "0x0000000089E5DE00P: ccc3c88948f1230f cccccccccccccccc \n",
      "0x0000000089E5DE10P: ccccccccc3c8210f cccccccccccccccc \n",
      "0x0000000089E5DE20P: ccccccccc3d8210f cccccccccccccccc \n",
      "0x0000000089E5DE30P: ccccccccc309010f cccccccccccccccc \n",
      "0x0000000089E5DE40P: ccc39d19010ffa9c cccccccccccccccc \n",
      "0x0000000089E5DE50P: ccccccccc301010f cccccccccccccccc \n",
      "0x0000000089E5DE60P: 83485340ccc3589c 8b4860428b4820ec \n",
      "0x0000000089E5DE70P: 00008378058948d9 e800008369158948 \n",
      "0x0000000089E5DE80P: a50d8d48000016e0 00001704e8000075 \n",
      "0x0000000089E5DE90P: 4800008369158d48 61e8000075720d8d \n",
      "0x0000000089E5DEA0P: 49e8cb8b48000016 5b20c48348000008 \n",
      "0x0000000089E5DEB0P: 28ec8348ccccccc3 f4dee80975c98545 \n",
      "0x0000000089E5DEC0P: 834117ebc033ffff fff4dfe8077502f9 \n",
      "0x0000000089E5DED0P: 000003b848efebff c483488000000000 \n",
      "0x0000000089E5DEE0P: 28ec8348ccccc328 c6c033fffff4a3e8 \n",
      "0x0000000089E5DEF0P: 834801000082da05 28ec8348ccc328c4 \n",
      "0x0000000089E5DF00P: c6c033fffff4fbe8 834800000082c205 \n",
      "0x0000000089E5DF10P: 75d28548ccc328c4 0000000002b8480b \n",
      "0x0000000089E5DF20P: 82a6058ac3800000 ccc3c03302880000 \n",
      "0x0000000089E5DF30P: 000000000003b848 55158b4cccc38000 \n",
      "0x0000000089E5DF40P: 8548c93345000083 832e153b484a78d2 \n",
      "0x0000000089E5DF50P: 35058b48417d0000 4458ca6b48000083 \n",
      "0x0000000089E5DF60P: 854d2f740c014c39 75d20c394d1275c0 \n",
      "0x0000000089E5DF70P: 0000000002b9491e 0c394d22eb800000 \n",
      "0x0000000089E5DF80P: 000014b9490c74d2 4d10eb8000000000 \n",
      "0x0000000089E5DF90P: 03b9490aebd20489 4980000000000000 \n",
      "0x0000000089E5DFA0P: 245c8948ccc3c18b 8b4920ec83485708 \n",
      "0x0000000089E5DFB0P: 75c0854dd88b49f9 0000000002b8480c \n",
      "0x0000000089E5DFC0P: 75d28555eb800000 8948fffff3f2e8f0 \n",
      "0x0000000089E5DFD0P: 8b484274ff854803 c08548000081eb05 \n",
      "0x0000000089E5DFE0P: b9fffff3d9e83375 e8d88b4800000064 \n",
      "0x0000000089E5DFF0P: fff3c7e800001364 2b48d233c88b48ff \n",
      "0x0000000089E5E000P: 174876e800b848cb 8948f1f748000000 \n",
      "0x0000000089E5E010P: 078948000081b305 4830245c8b48c033 \n",
      "0x0000000089E5E020P: ccccccc35f20c483 cccccc00003bd3e9 \n",
      "0x0000000089E5E030P: 4808588948c48b48 4818708948106889 \n",
      "0x0000000089E5E040P: ec81485641207889 824d3d80000002b0 \n",
      "0x0000000089E5E050P: 8b48f08b4d000000 0168e9c0330774f2 \n",
      "0x0000000089E5E060P: d98b49e98b490000 e38100026000e581 \n",
      "0x0000000089E5E070P: 0b48c58b0000101f b8480f74c83b4cc3 \n",
      "0x0000000089E5E080P: 8000000000000002 db85480000013de9 \n",
      "0x0000000089E5E090P: fde8000000df840f 480f75c08400003b \n",
      "0x0000000089E5E0A0P: 00000000000003b8 83480000011ce980 \n",
      "0x0000000089E5E0B0P: 01eb8348377401eb 1d7402eb83482a74 \n",
      "0x0000000089E5E0C0P: 8148107404eb8348 bfaf7500000ff8fb \n",
      "0x0000000089E5E0D0P: 06bf17eb00000005 0004bf10eb000000 \n",
      "0x0000000089E5E0E0P: 000001bf09eb0000 3ba6e8ff3302eb00 \n",
      "0x0000000089E5E0F0P: c0330475c0840000 1d72e8d68b4808eb \n",
      "0x0000000089E5E100P: 8b446f74c73b0000 e8d68b48c68b4dcf \n",
      "0x0000000089E5E110P: 0fc08548000039d8 058b48000000ad88 \n",
      "\n"
     ]
    }
   ],
   "source": [
    "# Dump memory contents as specifed below:\n",
    "# tid                --> selected thread\n",
    "# start_addr         --> first address from where to start dump\n",
    "# no_of_words        --> number of words to be read in the dump file\n",
    "# wordsize_in_bytes  --> 1 for 8 bit word\n",
    "#                        2 for 16 bit word\n",
    "#                        4 for 32 bit word \n",
    "#                        8 for 64 bit word \n",
    "\n",
    "tid = 0\n",
    "start_addr = \"0x89E5DE00P\"\n",
    "no_of_words = 100\n",
    "wordsize_in_bytes = 8\n",
    "\n",
    "itp.threads[tid].memdump(start_addr, no_of_words, wordsize_in_bytes)"
   ]
  },
  {
   "cell_type": "markdown",
   "metadata": {},
   "source": [
    "### Handling Breakpoints"
   ]
  },
  {
   "cell_type": "code",
   "execution_count": 137,
   "metadata": {},
   "outputs": [],
   "source": [
    "# Set a breakpoint\n",
    "\n",
    "itp.brnew(\"0x100P\", \"io\")"
   ]
  },
  {
   "cell_type": "code",
   "execution_count": 138,
   "metadata": {},
   "outputs": [
    {
     "name": "stdout",
     "output_type": "stream",
     "text": [
      "[WHL_C0_T0] br[\"#001\"] = 0x0000000000000100P io global dbreg = 0, enabled = True\r\n",
      "[WHL_C0_T0] br[\"#009\"] = 0x0000000000000100P io global dbreg = 1, enabled = True\r\n",
      "[WHL_C0_T0] br[\"#017\"] = 0x0000000000000100P io global dbreg = 2, enabled = True\r\n",
      "[WHL_C0_T1] br[\"#002\"] = 0x0000000000000100P io global dbreg = 0, enabled = True\r\n",
      "[WHL_C0_T1] br[\"#010\"] = 0x0000000000000100P io global dbreg = 1, enabled = True\r\n",
      "[WHL_C0_T1] br[\"#018\"] = 0x0000000000000100P io global dbreg = 2, enabled = True\r\n",
      "[WHL_C1_T0] br[\"#003\"] = 0x0000000000000100P io global dbreg = 0, enabled = True\r\n",
      "[WHL_C1_T0] br[\"#011\"] = 0x0000000000000100P io global dbreg = 1, enabled = True\r\n",
      "[WHL_C1_T0] br[\"#019\"] = 0x0000000000000100P io global dbreg = 2, enabled = True\r\n",
      "[WHL_C1_T1] br[\"#004\"] = 0x0000000000000100P io global dbreg = 0, enabled = True\r\n",
      "[WHL_C1_T1] br[\"#012\"] = 0x0000000000000100P io global dbreg = 1, enabled = True\r\n",
      "[WHL_C1_T1] br[\"#020\"] = 0x0000000000000100P io global dbreg = 2, enabled = True\r\n",
      "[WHL_C2_T0] br[\"#005\"] = 0x0000000000000100P io global dbreg = 0, enabled = True\r\n",
      "[WHL_C2_T0] br[\"#013\"] = 0x0000000000000100P io global dbreg = 1, enabled = True\r\n",
      "[WHL_C2_T0] br[\"#021\"] = 0x0000000000000100P io global dbreg = 2, enabled = True\r\n",
      "[WHL_C2_T1] br[\"#006\"] = 0x0000000000000100P io global dbreg = 0, enabled = True\r\n",
      "[WHL_C2_T1] br[\"#014\"] = 0x0000000000000100P io global dbreg = 1, enabled = True\r\n",
      "[WHL_C2_T1] br[\"#022\"] = 0x0000000000000100P io global dbreg = 2, enabled = True\r\n",
      "[WHL_C3_T0] br[\"#007\"] = 0x0000000000000100P io global dbreg = 0, enabled = True\r\n",
      "[WHL_C3_T0] br[\"#015\"] = 0x0000000000000100P io global dbreg = 1, enabled = True\r\n",
      "[WHL_C3_T0] br[\"#023\"] = 0x0000000000000100P io global dbreg = 2, enabled = True\r\n",
      "[WHL_C3_T1] br[\"#008\"] = 0x0000000000000100P io global dbreg = 0, enabled = True\r\n",
      "[WHL_C3_T1] br[\"#016\"] = 0x0000000000000100P io global dbreg = 1, enabled = True\r\n",
      "[WHL_C3_T1] br[\"#024\"] = 0x0000000000000100P io global dbreg = 2, enabled = True\r\n",
      "\n"
     ]
    }
   ],
   "source": [
    "# View breakpoints\n",
    "\n",
    "itp.brget()"
   ]
  },
  {
   "cell_type": "markdown",
   "metadata": {},
   "source": [
    "### Usage of Debug Scripts"
   ]
  },
  {
   "cell_type": "code",
   "execution_count": 139,
   "metadata": {},
   "outputs": [
    {
     "name": "stdout",
     "output_type": "stream",
     "text": [
      "\tProcessor(s) found in halted state, releasing them before reset target\n",
      "\tNote:\tConfiguration on all debug ports has started\n",
      "\tTarget Configuration: WHL_CNP_OpenDCI_CCA_[DbC]_ReferenceSettings\n",
      "\tNote:\tTarget reset has occurred\n",
      "\tNote:\tConfiguration on all debug ports has finished\n",
      "\t[WHL_C0_T0]  Halt Command break at 0x38:0000000089E9B3A6\n",
      "\t[WHL_C0_T1]  MWAIT C1 break at 0x38:0000000089E5DDF7\n",
      "\t[WHL_C1_T0]  MWAIT C1 break at 0x38:0000000089E5DDF7\n",
      "\t[WHL_C1_T1]  MWAIT C1 break at 0x38:0000000089E5DDF7\n",
      "\t[WHL_C2_T0]  MWAIT C1 break at 0x38:0000000089E5DDF7\n",
      "\t[WHL_C2_T1]  MWAIT C1 break at 0x38:0000000089E5DDF7\n",
      "\t[WHL_C3_T0]  MWAIT C1 break at 0x38:0000000089E5DDF7\n",
      "\t[WHL_C3_T1]  MWAIT C1 break at 0x38:0000000089E5DDF7\n",
      "Status for       : WHL_C0_T0\n",
      "  Processor      : Halted\n",
      "  Processor mode : Protected, Paged, SixtyFourBit\n",
      "Status for       : WHL_C0_T1\n",
      "  Processor      : Halted\n",
      "  Processor mode : Protected, Paged, SixtyFourBit\n",
      "Status for       : WHL_C1_T0\n",
      "  Processor      : Halted\n",
      "  Processor mode : Protected, Paged, SixtyFourBit\n",
      "Status for       : WHL_C1_T1\n",
      "  Processor      : Halted\n",
      "  Processor mode : Protected, Paged, SixtyFourBit\n",
      "Status for       : WHL_C2_T0\n",
      "  Processor      : Halted\n",
      "  Processor mode : Protected, Paged, SixtyFourBit\n",
      "Status for       : WHL_C2_T1\n",
      "  Processor      : Halted\n",
      "  Processor mode : Protected, Paged, SixtyFourBit\n",
      "Status for       : WHL_C3_T0\n",
      "  Processor      : Halted\n",
      "  Processor mode : Protected, Paged, SixtyFourBit\n",
      "Status for       : WHL_C3_T1\n",
      "  Processor      : Halted\n",
      "  Processor mode : Protected, Paged, SixtyFourBit\n",
      "\n"
     ]
    }
   ],
   "source": [
    "# Demonstrates the use of writing a small script to perform a specific debugging task\n",
    "\n",
    "# Function resetpower() powercycles the target, puts all the cores in probe mode and \n",
    "# displays the status of all the halted cores\n",
    "\n",
    "def resetpower():     \n",
    "    import os  \n",
    "    itp.sleep(3)\n",
    "    itp.resettarget()\n",
    "    if t0.cv.isrunning:\n",
    "        itp.halt()\n",
    "    itp.status()\n",
    "\n",
    "resetpower()"
   ]
  },
  {
   "cell_type": "markdown",
   "metadata": {},
   "source": [
    "## Using OpenIPC"
   ]
  },
  {
   "cell_type": "code",
   "execution_count": null,
   "metadata": {},
   "outputs": [],
   "source": [
    "! python -V"
   ]
  },
  {
   "cell_type": "code",
   "execution_count": null,
   "metadata": {},
   "outputs": [],
   "source": [
    "import ipccli\n",
    "itp = ipccli.baseaccess()"
   ]
  },
  {
   "cell_type": "code",
   "execution_count": null,
   "metadata": {},
   "outputs": [],
   "source": [
    "itp.cv.version"
   ]
  },
  {
   "cell_type": "markdown",
   "metadata": {},
   "source": [
    "### Enter/Exit Probe Mode"
   ]
  },
  {
   "cell_type": "code",
   "execution_count": null,
   "metadata": {},
   "outputs": [],
   "source": [
    "# Put all the threads into probe mode\n",
    "\n",
    "# Output shows a series of messages which describes how each thread entered probe mode and at what address they \n",
    "# were executing at the time they were halted\n",
    "itp.halt()\n",
    "itp.status()"
   ]
  },
  {
   "cell_type": "code",
   "execution_count": null,
   "metadata": {},
   "outputs": [],
   "source": [
    "# Resume execution of all threads\n",
    "itp.go()\n",
    "itp.status()"
   ]
  },
  {
   "cell_type": "markdown",
   "metadata": {},
   "source": [
    "### View/Modify Registers"
   ]
  },
  {
   "cell_type": "code",
   "execution_count": null,
   "metadata": {},
   "outputs": [],
   "source": [
    "# Create aliases for threads\n",
    "t0 = itp.threads[0]\n",
    "t1 = itp.threads[1]"
   ]
  },
  {
   "cell_type": "code",
   "execution_count": null,
   "metadata": {},
   "outputs": [],
   "source": [
    "# View desired registers for debug\n",
    "\n",
    "# Use \"Tab\" key to get a list of registers using the below template:\n",
    "# print t0.state.regs.<tab>\n",
    "\n",
    "print t0.state.regs.ebx\n",
    "print t0.state.regs.rflags\n",
    "print t0.state.regs.xmm0"
   ]
  },
  {
   "cell_type": "code",
   "execution_count": null,
   "metadata": {},
   "outputs": [],
   "source": [
    "savedRflags = t0.state.regs.rflags\n",
    "savedRflags"
   ]
  },
  {
   "cell_type": "code",
   "execution_count": null,
   "metadata": {},
   "outputs": [],
   "source": [
    "# Update rflags value to all 1s (0xfffffffff)\n",
    "\n",
    "t0.state.regs.rflags = 0xfffffffff\n",
    "print \"Updated rflags value:\\n%s\"%t0.state.regs.rflags"
   ]
  },
  {
   "cell_type": "code",
   "execution_count": null,
   "metadata": {},
   "outputs": [],
   "source": [
    "# Restore rflags value\n",
    "\n",
    "t0.state.regs.rflags = savedRflags\n",
    "print \"Restored flags value is:\\n%s\"%t0.state.regs.rflags"
   ]
  },
  {
   "cell_type": "code",
   "execution_count": null,
   "metadata": {},
   "outputs": [],
   "source": [
    "# Check MSR (Model Specific Register) values\n",
    "\n",
    "itp.threads.msr(0x200)"
   ]
  },
  {
   "cell_type": "markdown",
   "metadata": {},
   "source": [
    "### Check/Modify Target Status"
   ]
  },
  {
   "cell_type": "code",
   "execution_count": null,
   "metadata": {},
   "outputs": [],
   "source": [
    "# Check target power status\n",
    "\n",
    "itp.cv.targpower"
   ]
  },
  {
   "cell_type": "code",
   "execution_count": null,
   "metadata": {},
   "outputs": [],
   "source": [
    "# Check processor mode for the selected threads specified by the variable 'tid'\n",
    "\n",
    "tid = 0\n",
    "itp.threads[tid].cv.asmmode"
   ]
  },
  {
   "cell_type": "code",
   "execution_count": null,
   "metadata": {},
   "outputs": [],
   "source": [
    "# List the known TAP devices; the devices primarily hold information about the silicon or portion of silicon it is representing\n",
    "\n",
    "itp.devicelist"
   ]
  },
  {
   "cell_type": "code",
   "execution_count": null,
   "metadata": {},
   "outputs": [],
   "source": [
    "# Display processor's running state and execution mode\n",
    "itp.threads.thread_status()"
   ]
  },
  {
   "cell_type": "code",
   "execution_count": null,
   "metadata": {},
   "outputs": [],
   "source": [
    "# Display the address of the last known break event for the selected threads specified by the variable tid\n",
    "\n",
    "tid = 0\n",
    "print itp.threads[tid].break_address()"
   ]
  },
  {
   "cell_type": "code",
   "execution_count": null,
   "metadata": {},
   "outputs": [],
   "source": [
    "# Dump memory contents as specifed below:\n",
    "# tid                --> selected thread\n",
    "# start_addr         --> first address from where to start dump\n",
    "# no_of_words        --> number of words to be read in the dump file\n",
    "# wordsize_in_bytes  --> 1 for 8 bit word\n",
    "#                        2 for 16 bit word\n",
    "#                        4 for 32 bit word \n",
    "#                        8 for 64 bit word \n",
    "\n",
    "tid = 0\n",
    "start_addr = \"0x88EB5CE3P\"\n",
    "no_of_words = 100\n",
    "wordsize_in_bytes = 2\n",
    "\n",
    "itp.threads[tid].memdump(start_addr, no_of_words, wordsize_in_bytes)"
   ]
  },
  {
   "cell_type": "markdown",
   "metadata": {},
   "source": [
    "### Handling Breakpoints"
   ]
  },
  {
   "cell_type": "code",
   "execution_count": null,
   "metadata": {},
   "outputs": [],
   "source": [
    "# Set a breakpoint\n",
    "\n",
    "itp.brnew(\"0x100P\", \"io\")"
   ]
  },
  {
   "cell_type": "code",
   "execution_count": null,
   "metadata": {},
   "outputs": [],
   "source": [
    "# View breakpoints\n",
    "\n",
    "itp.brget()"
   ]
  },
  {
   "cell_type": "markdown",
   "metadata": {},
   "source": [
    "### Basic Bitwise Operations"
   ]
  },
  {
   "cell_type": "code",
   "execution_count": null,
   "metadata": {},
   "outputs": [],
   "source": [
    "reg1 = itp.BitData(8, 0xab)\n",
    "reg2 = itp.BitData(8, 0xcd)\n",
    "print \"reg1 in hex = \" +reg1.ToHex()\n",
    "print \"reg2 in hex = \" +reg2.ToHex()\n",
    "\n",
    "# Append reg2 to MSB of reg1\n",
    "\n",
    "reg3 = reg1.Append(reg2)\n",
    "\n",
    "# Display reg3 in hex and binary\n",
    "print \"reg3 in hex = \" +reg3.ToHex()\n",
    "print \"reg3 in binary = \" +reg3.ToBinary()\n",
    "\n",
    "# Count number of 1s in a byte/word\n",
    "total_one_bits = reg3.PopCount()\n",
    "print \"total_one_bits in reg3= %d\"%total_one_bits\n"
   ]
  },
  {
   "cell_type": "markdown",
   "metadata": {},
   "source": [
    "## Launch System Debugger GUI"
   ]
  },
  {
   "cell_type": "code",
   "execution_count": null,
   "metadata": {},
   "outputs": [],
   "source": [
    "%%capture\n",
    "! C:\\IntelSWTools\\system_studio_2018_nda\\iss_ide_eclipse-launcher.bat"
   ]
  }
 ],
 "metadata": {
  "kernelspec": {
   "display_name": "Python 2",
   "language": "python",
   "name": "python2"
  },
  "language_info": {
   "codemirror_mode": {
    "name": "ipython",
    "version": 2
   },
   "file_extension": ".py",
   "mimetype": "text/x-python",
   "name": "python",
   "nbconvert_exporter": "python",
   "pygments_lexer": "ipython2",
   "version": "2.7.15"
  }
 },
 "nbformat": 4,
 "nbformat_minor": 2
}
